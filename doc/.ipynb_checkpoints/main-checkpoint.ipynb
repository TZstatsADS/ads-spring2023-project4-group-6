{
 "cells": [
  {
   "cell_type": "markdown",
   "metadata": {},
   "source": [
    "# ADS Project 4: Machine Learning Fairness\n",
    "## Spring 2023"
   ]
  },
  {
   "cell_type": "code",
   "execution_count": 1,
   "metadata": {},
   "outputs": [],
   "source": [
    "# ! pip install dalex\n",
    "import pandas as pd\n",
    "import numpy as np\n",
    "import dalex as dx\n",
    "from sklearn.preprocessing import LabelEncoder\n",
    "from sklearn.model_selection import train_test_split\n",
    "from sklearn.linear_model import LogisticRegression\n",
    "from sklearn.metrics import log_loss\n",
    "from A7_algorithm_function import *"
   ]
  },
  {
   "cell_type": "markdown",
   "metadata": {},
   "source": [
    "+ The cleaned COMPAS dataset is provided in `../output/compas-scores-two-years_cleaned.csv`. \n",
    "\n",
    "### Section 1: Load Data"
   ]
  },
  {
   "cell_type": "code",
   "execution_count": 2,
   "metadata": {},
   "outputs": [
    {
     "data": {
      "text/html": [
       "<div>\n",
       "<style scoped>\n",
       "    .dataframe tbody tr th:only-of-type {\n",
       "        vertical-align: middle;\n",
       "    }\n",
       "\n",
       "    .dataframe tbody tr th {\n",
       "        vertical-align: top;\n",
       "    }\n",
       "\n",
       "    .dataframe thead th {\n",
       "        text-align: right;\n",
       "    }\n",
       "</style>\n",
       "<table border=\"1\" class=\"dataframe\">\n",
       "  <thead>\n",
       "    <tr style=\"text-align: right;\">\n",
       "      <th></th>\n",
       "      <th>sex</th>\n",
       "      <th>age_cat</th>\n",
       "      <th>race</th>\n",
       "      <th>priors_count</th>\n",
       "      <th>c_charge_degree</th>\n",
       "      <th>two_year_recid</th>\n",
       "      <th>length_of_stay</th>\n",
       "    </tr>\n",
       "  </thead>\n",
       "  <tbody>\n",
       "    <tr>\n",
       "      <th>0</th>\n",
       "      <td>Male</td>\n",
       "      <td>25 - 45</td>\n",
       "      <td>African-American</td>\n",
       "      <td>-0.733607</td>\n",
       "      <td>F</td>\n",
       "      <td>1</td>\n",
       "      <td>-0.167773</td>\n",
       "    </tr>\n",
       "    <tr>\n",
       "      <th>1</th>\n",
       "      <td>Male</td>\n",
       "      <td>&lt; 25</td>\n",
       "      <td>African-American</td>\n",
       "      <td>0.055928</td>\n",
       "      <td>F</td>\n",
       "      <td>1</td>\n",
       "      <td>-0.340654</td>\n",
       "    </tr>\n",
       "    <tr>\n",
       "      <th>2</th>\n",
       "      <td>Male</td>\n",
       "      <td>25 - 45</td>\n",
       "      <td>Caucasian</td>\n",
       "      <td>2.029767</td>\n",
       "      <td>F</td>\n",
       "      <td>1</td>\n",
       "      <td>-0.244609</td>\n",
       "    </tr>\n",
       "  </tbody>\n",
       "</table>\n",
       "</div>"
      ],
      "text/plain": [
       "    sex  age_cat              race  priors_count c_charge_degree  \\\n",
       "0  Male  25 - 45  African-American     -0.733607               F   \n",
       "1  Male     < 25  African-American      0.055928               F   \n",
       "2  Male  25 - 45         Caucasian      2.029767               F   \n",
       "\n",
       "   two_year_recid  length_of_stay  \n",
       "0               1       -0.167773  \n",
       "1               1       -0.340654  \n",
       "2               1       -0.244609  "
      ]
     },
     "execution_count": 2,
     "metadata": {},
     "output_type": "execute_result"
    }
   ],
   "source": [
    "df =  pd.read_csv('../output/compas-scores-two-years_cleaned.csv')\n",
    "df.head(3)"
   ]
  },
  {
   "cell_type": "code",
   "execution_count": 3,
   "metadata": {},
   "outputs": [],
   "source": [
    "# change categorical data into numerical\n",
    "le = LabelEncoder()\n",
    "df['sex'] = le.fit_transform(df['sex'])\n",
    "df['age_cat'] = le.fit_transform(df['age_cat'])\n",
    "df['race'] = le.fit_transform(df['race'])\n",
    "df['c_charge_degree'] = le.fit_transform(df['c_charge_degree'])"
   ]
  },
  {
   "cell_type": "markdown",
   "metadata": {},
   "source": [
    "Encode categorical variables with numerical variables:\n",
    "+ `sex`: 1 for male and 0 for female\n",
    "+ `age_cat`: 2 for > 45, 0 for 25 - 45 and 1 for < 25\n",
    "+ `race`: 1 for caucasian and 0 for african-american\n",
    "+ `c_charge_degree`: 0 for F and 1 for M"
   ]
  },
  {
   "cell_type": "code",
   "execution_count": 4,
   "metadata": {},
   "outputs": [
    {
     "data": {
      "text/plain": [
       "(1    4751\n",
       " 0    1164\n",
       " Name: sex, dtype: int64,\n",
       " 0    3378\n",
       " 1    1281\n",
       " 2    1256\n",
       " Name: age_cat, dtype: int64,\n",
       " 0    3537\n",
       " 1    2378\n",
       " Name: race, dtype: int64,\n",
       " 0    3904\n",
       " 1    2011\n",
       " Name: c_charge_degree, dtype: int64)"
      ]
     },
     "execution_count": 4,
     "metadata": {},
     "output_type": "execute_result"
    }
   ],
   "source": [
    "# \n",
    "df['sex'].value_counts(), df['age_cat'].value_counts(), df['race'].value_counts(), df['c_charge_degree'].value_counts()"
   ]
  },
  {
   "cell_type": "code",
   "execution_count": 34,
   "metadata": {},
   "outputs": [],
   "source": [
    "features = df[['sex', 'age_cat', 'c_charge_degree', 'length_of_stay',\"priors_count\"]]\n",
    "sensitive = df['race']\n",
    "target = df['two_year_recid']\n",
    "X_train, X_test, y_train, y_test, race_train, race_test = \\\n",
    "    train_test_split(features, target, sensitive, test_size=0.3, random_state=6, shuffle = True)"
   ]
  },
  {
   "cell_type": "markdown",
   "metadata": {},
   "source": [
    "+ **Protected**: Caucasians (i.e., `race == 1`)\n",
    "+ **Not protected**: African-Americans (i.e., `race == 0`)"
   ]
  },
  {
   "cell_type": "code",
   "execution_count": 35,
   "metadata": {},
   "outputs": [
    {
     "data": {
      "text/html": [
       "<div>\n",
       "<style scoped>\n",
       "    .dataframe tbody tr th:only-of-type {\n",
       "        vertical-align: middle;\n",
       "    }\n",
       "\n",
       "    .dataframe tbody tr th {\n",
       "        vertical-align: top;\n",
       "    }\n",
       "\n",
       "    .dataframe thead th {\n",
       "        text-align: right;\n",
       "    }\n",
       "</style>\n",
       "<table border=\"1\" class=\"dataframe\">\n",
       "  <thead>\n",
       "    <tr style=\"text-align: right;\">\n",
       "      <th></th>\n",
       "      <th>sex</th>\n",
       "      <th>age_cat</th>\n",
       "      <th>race</th>\n",
       "      <th>priors_count</th>\n",
       "      <th>c_charge_degree</th>\n",
       "      <th>two_year_recid</th>\n",
       "      <th>length_of_stay</th>\n",
       "    </tr>\n",
       "  </thead>\n",
       "  <tbody>\n",
       "    <tr>\n",
       "      <th>0</th>\n",
       "      <td>1</td>\n",
       "      <td>0</td>\n",
       "      <td>0</td>\n",
       "      <td>-0.733607</td>\n",
       "      <td>0</td>\n",
       "      <td>1</td>\n",
       "      <td>-0.167773</td>\n",
       "    </tr>\n",
       "    <tr>\n",
       "      <th>1</th>\n",
       "      <td>1</td>\n",
       "      <td>1</td>\n",
       "      <td>0</td>\n",
       "      <td>0.055928</td>\n",
       "      <td>0</td>\n",
       "      <td>1</td>\n",
       "      <td>-0.340654</td>\n",
       "    </tr>\n",
       "    <tr>\n",
       "      <th>2</th>\n",
       "      <td>1</td>\n",
       "      <td>0</td>\n",
       "      <td>1</td>\n",
       "      <td>2.029767</td>\n",
       "      <td>0</td>\n",
       "      <td>1</td>\n",
       "      <td>-0.244609</td>\n",
       "    </tr>\n",
       "    <tr>\n",
       "      <th>3</th>\n",
       "      <td>0</td>\n",
       "      <td>0</td>\n",
       "      <td>1</td>\n",
       "      <td>-0.733607</td>\n",
       "      <td>1</td>\n",
       "      <td>0</td>\n",
       "      <td>-0.321445</td>\n",
       "    </tr>\n",
       "    <tr>\n",
       "      <th>4</th>\n",
       "      <td>1</td>\n",
       "      <td>1</td>\n",
       "      <td>1</td>\n",
       "      <td>-0.536224</td>\n",
       "      <td>0</td>\n",
       "      <td>1</td>\n",
       "      <td>-0.359864</td>\n",
       "    </tr>\n",
       "  </tbody>\n",
       "</table>\n",
       "</div>"
      ],
      "text/plain": [
       "   sex  age_cat  race  priors_count  c_charge_degree  two_year_recid  \\\n",
       "0    1        0     0     -0.733607                0               1   \n",
       "1    1        1     0      0.055928                0               1   \n",
       "2    1        0     1      2.029767                0               1   \n",
       "3    0        0     1     -0.733607                1               0   \n",
       "4    1        1     1     -0.536224                0               1   \n",
       "\n",
       "   length_of_stay  \n",
       "0       -0.167773  \n",
       "1       -0.340654  \n",
       "2       -0.244609  \n",
       "3       -0.321445  \n",
       "4       -0.359864  "
      ]
     },
     "execution_count": 35,
     "metadata": {},
     "output_type": "execute_result"
    }
   ],
   "source": [
    "df.head()"
   ]
  },
  {
   "cell_type": "markdown",
   "metadata": {},
   "source": [
    "The p-rule  function is commonly used in evaluate fairness in machine learning model, by checking whether the model's positive predictions are distributed similarly across different sensitive groups. The higher the p-rule, the better the fairness."
   ]
  },
  {
   "cell_type": "code",
   "execution_count": 36,
   "metadata": {},
   "outputs": [],
   "source": [
    "# Function to compute p-rule\n",
    "def p_rule(sensitive_var, y_pred):\n",
    "    protected = np.where(sensitive_var == 1)[0]\n",
    "    not_protected = np.where(sensitive_var == 0)[0]\n",
    "    protected_pred = np.where(y_pred[protected] == 1)\n",
    "    not_protected_pred = np.where(y_pred[not_protected] == 1)\n",
    "    protected_percent = protected_pred[0].shape[0]/protected.shape[0]\n",
    "    not_protected_percent = not_protected_pred[0].shape[0]/not_protected.shape[0]\n",
    "    ratio = min(protected_percent/not_protected_percent, not_protected_percent/protected_percent)\n",
    "    \n",
    "    return ratio, protected_percent, not_protected_percent"
   ]
  },
  {
   "cell_type": "markdown",
   "metadata": {},
   "source": [
    "### Section 2: Logistic Regression\n",
    "#### 2.1 Baseline Model\n",
    "First, we train a baseline model without constaint, and then evaluate it's accuaracy and fairness."
   ]
  },
  {
   "cell_type": "code",
   "execution_count": 37,
   "metadata": {},
   "outputs": [
    {
     "name": "stdout",
     "output_type": "stream",
     "text": [
      "The optimal loss of logistic model is: 0.6407097826469522\n"
     ]
    }
   ],
   "source": [
    "clf = LogisticRegression(random_state= 6).fit(X_train, y_train)\n",
    "coeff = clf.coef_\n",
    "intercept = clf.intercept_\n",
    "optimal_loss = log_loss(y_train, clf.predict_proba(X_train))\n",
    "print(f'The optimal loss of logistic model is: {optimal_loss}')"
   ]
  },
  {
   "cell_type": "markdown",
   "metadata": {},
   "source": [
    "+ Accuaracy & Fairness check:"
   ]
  },
  {
   "cell_type": "code",
   "execution_count": 38,
   "metadata": {},
   "outputs": [
    {
     "data": {
      "text/html": [
       "<div>\n",
       "<style scoped>\n",
       "    .dataframe tbody tr th:only-of-type {\n",
       "        vertical-align: middle;\n",
       "    }\n",
       "\n",
       "    .dataframe tbody tr th {\n",
       "        vertical-align: top;\n",
       "    }\n",
       "\n",
       "    .dataframe thead th {\n",
       "        text-align: right;\n",
       "    }\n",
       "</style>\n",
       "<table border=\"1\" class=\"dataframe\">\n",
       "  <thead>\n",
       "    <tr style=\"text-align: right;\">\n",
       "      <th></th>\n",
       "      <th>Classifier</th>\n",
       "      <th>Set</th>\n",
       "      <th>Accuracy (%)</th>\n",
       "      <th>P-rule (%)</th>\n",
       "      <th>Protected (%)</th>\n",
       "      <th>Not protected (%)</th>\n",
       "    </tr>\n",
       "  </thead>\n",
       "  <tbody>\n",
       "    <tr>\n",
       "      <th>0</th>\n",
       "      <td>LR</td>\n",
       "      <td>Train</td>\n",
       "      <td>63.743961</td>\n",
       "      <td>55.108121</td>\n",
       "      <td>21.962896</td>\n",
       "      <td>39.854192</td>\n",
       "    </tr>\n",
       "    <tr>\n",
       "      <th>1</th>\n",
       "      <td>LR</td>\n",
       "      <td>Test</td>\n",
       "      <td>62.028169</td>\n",
       "      <td>59.382529</td>\n",
       "      <td>24.186704</td>\n",
       "      <td>40.730337</td>\n",
       "    </tr>\n",
       "  </tbody>\n",
       "</table>\n",
       "</div>"
      ],
      "text/plain": [
       "  Classifier    Set  Accuracy (%)  P-rule (%)  Protected (%)  \\\n",
       "0         LR  Train     63.743961   55.108121      21.962896   \n",
       "1         LR   Test     62.028169   59.382529      24.186704   \n",
       "\n",
       "   Not protected (%)  \n",
       "0          39.854192  \n",
       "1          40.730337  "
      ]
     },
     "execution_count": 38,
     "metadata": {},
     "output_type": "execute_result"
    }
   ],
   "source": [
    "results_lr = {\"Classifier\": [\"LR\", \"LR\"], \n",
    "              \"Set\": [\"Train\", \"Test\"],\n",
    "              \"Accuracy (%)\": [clf.score(X_train, y_train)*100, clf.score(X_test, y_test)*100],\n",
    "              \"P-rule (%)\": [p_rule(race_train, clf.predict(X_train))[0]*100, p_rule(race_test, clf.predict(X_test))[0]*100],\n",
    "              \"Protected (%)\": [p_rule(race_train, clf.predict(X_train))[1]*100, p_rule(race_test, clf.predict(X_test))[1]*100],\n",
    "              \"Not protected (%)\": [p_rule(race_train, clf.predict(X_train))[2]*100, p_rule(race_test, clf.predict(X_test))[2]*100]}\n",
    "pd.DataFrame(results_lr)"
   ]
  },
  {
   "cell_type": "markdown",
   "metadata": {},
   "source": [
    "#### 2.2 Optimizing classifier accuracy subject to fairness constraints"
   ]
  },
  {
   "cell_type": "code",
   "execution_count": 10,
   "metadata": {},
   "outputs": [],
   "source": [
    "# Fairness Constraints: Mechanisms for Fair Classification"
   ]
  },
  {
   "cell_type": "markdown",
   "metadata": {},
   "source": [
    "### Section 3: Support Vector Machine (SVM) \n",
    "#### 3.1 Baseline Model"
   ]
  },
  {
   "cell_type": "code",
   "execution_count": 39,
   "metadata": {},
   "outputs": [
    {
     "name": "stdout",
     "output_type": "stream",
     "text": [
      "The optimal loss of SVM model is: 0.6445239963245335\n"
     ]
    }
   ],
   "source": [
    "from sklearn import svm\n",
    "from sklearn.svm import SVC\n",
    "\n",
    "# Train model\n",
    "svm_model = SVC(kernel = 'linear', probability = True)\n",
    "clf= svm_model.fit(X_train, y_train)\n",
    "optimal_loss = log_loss(y_train, clf.predict_proba(X_train))\n",
    "print(f'The optimal loss of SVM model is: {optimal_loss}')"
   ]
  },
  {
   "cell_type": "code",
   "execution_count": 40,
   "metadata": {},
   "outputs": [
    {
     "data": {
      "text/html": [
       "<div>\n",
       "<style scoped>\n",
       "    .dataframe tbody tr th:only-of-type {\n",
       "        vertical-align: middle;\n",
       "    }\n",
       "\n",
       "    .dataframe tbody tr th {\n",
       "        vertical-align: top;\n",
       "    }\n",
       "\n",
       "    .dataframe thead th {\n",
       "        text-align: right;\n",
       "    }\n",
       "</style>\n",
       "<table border=\"1\" class=\"dataframe\">\n",
       "  <thead>\n",
       "    <tr style=\"text-align: right;\">\n",
       "      <th></th>\n",
       "      <th>Classifier</th>\n",
       "      <th>Set</th>\n",
       "      <th>Accuracy (%)</th>\n",
       "      <th>P-rule (%)</th>\n",
       "      <th>Protected (%)</th>\n",
       "      <th>Not protected (%)</th>\n",
       "    </tr>\n",
       "  </thead>\n",
       "  <tbody>\n",
       "    <tr>\n",
       "      <th>0</th>\n",
       "      <td>SVM</td>\n",
       "      <td>Train</td>\n",
       "      <td>62.874396</td>\n",
       "      <td>51.242571</td>\n",
       "      <td>15.918612</td>\n",
       "      <td>31.065209</td>\n",
       "    </tr>\n",
       "    <tr>\n",
       "      <th>1</th>\n",
       "      <td>SVM</td>\n",
       "      <td>Test</td>\n",
       "      <td>61.352113</td>\n",
       "      <td>53.767411</td>\n",
       "      <td>17.821782</td>\n",
       "      <td>33.146067</td>\n",
       "    </tr>\n",
       "  </tbody>\n",
       "</table>\n",
       "</div>"
      ],
      "text/plain": [
       "  Classifier    Set  Accuracy (%)  P-rule (%)  Protected (%)  \\\n",
       "0        SVM  Train     62.874396   51.242571      15.918612   \n",
       "1        SVM   Test     61.352113   53.767411      17.821782   \n",
       "\n",
       "   Not protected (%)  \n",
       "0          31.065209  \n",
       "1          33.146067  "
      ]
     },
     "execution_count": 40,
     "metadata": {},
     "output_type": "execute_result"
    }
   ],
   "source": [
    "# Display results\n",
    "results_svm = {\"Classifier\": [\"SVM\", \"SVM\"],\n",
    "               \"Set\": [\"Train\", \"Test\"],\n",
    "               \"Accuracy (%)\": [clf.score(X_train, y_train)*100, clf.score(X_test, y_test)*100],\n",
    "               \"P-rule (%)\": [p_rule(race_train, clf.predict(X_train))[0]*100, p_rule(race_test, clf.predict(X_test))[0]*100],\n",
    "               \"Protected (%)\": [p_rule(race_train, clf.predict(X_train))[1]*100, p_rule(race_test, clf.predict(X_test))[1]*100],\n",
    "               \"Not protected (%)\": [p_rule(race_train, clf.predict(X_train))[2]*100, p_rule(race_test, clf.predict(X_test))[2]*100]}\n",
    "pd.DataFrame(results_svm)"
   ]
  },
  {
   "cell_type": "markdown",
   "metadata": {},
   "source": [
    "#### 3.2 Optimizing SVM classifier accuracy subject to fairness constraints"
   ]
  },
  {
   "cell_type": "code",
   "execution_count": 13,
   "metadata": {},
   "outputs": [],
   "source": [
    "# Fairness Constraints: Mechanisms for Fair Classification"
   ]
  },
  {
   "cell_type": "markdown",
   "metadata": {},
   "source": [
    "### Section 4: Information Theoretic Measures for Fairness-aware Feature Selection(FFS) "
   ]
  },
  {
   "cell_type": "markdown",
   "metadata": {},
   "source": [
    "An another method to deal with machine learning fairness is called **Information Theoretic Measures for Fairness-aware Feature selection (FFS)**. \n",
    "\n",
    "In short, from the joint statistics of the data, the framework proposes that two information theoretic measures can be used to quantify the **accuracy** and **discrmination** aspect for each subset of the feature space. We then compute the **Shapley coefficients** for each feature to capture its effect on the sensitive/protected group.\n",
    "\n",
    "Below is how we choose features by using **FFS** Algorithm."
   ]
  },
  {
   "cell_type": "code",
   "execution_count": 17,
   "metadata": {},
   "outputs": [
    {
     "name": "stdout",
     "output_type": "stream",
     "text": [
      "Feature:sex\n",
      "Marginal Accuracy Coefficient:0.003568314907946012\n",
      "Marginal Discrimination Coefficient:8.16082890138538e-06\n",
      "Feature:age_cat\n",
      "Marginal Accuracy Coefficient:0.011273246895526084\n",
      "Marginal Discrimination Coefficient:4.4881509198872635e-05\n",
      "Feature:priors_count\n",
      "Marginal Accuracy Coefficient:0.02427159853758174\n",
      "Marginal Discrimination Coefficient:4.464995590653898e-05\n",
      "Feature:c_charge_degree\n",
      "Marginal Accuracy Coefficient:0.001958893676796756\n",
      "Marginal Discrimination Coefficient:6.936830123648318e-06\n",
      "Feature:length_of_stay\n",
      "Marginal Accuracy Coefficient:0.005168319175750994\n",
      "Marginal Discrimination Coefficient:1.0984742883746511e-05\n"
     ]
    }
   ],
   "source": [
    "y=df[\"two_year_recid\"]\n",
    "y=y.to_numpy()\n",
    "y=np.reshape(y,(-1,1))\n",
    "a=df[\"race\"]\n",
    "a=a.to_numpy()\n",
    "a=np.reshape(a,(-1,1))\n",
    "arr=[\"sex\",\"age_cat\",\"priors_count\",\"c_charge_degree\",\"length_of_stay\"]\n",
    "for i in arr:\n",
    "    print(\"Feature:\",end=\"\")\n",
    "    print(i)\n",
    "    print(\"Marginal Accuracy Coefficient:\",end=\"\")\n",
    "    print(shapley_accuracy(i,y,a))\n",
    "    print(\"Marginal Discrimination Coefficient:\",end=\"\")\n",
    "    print(shapley_discrimination(i,y,a))"
   ]
  },
  {
   "cell_type": "code",
   "execution_count": 27,
   "metadata": {},
   "outputs": [
    {
     "data": {
      "text/html": [
       "<div>\n",
       "<style scoped>\n",
       "    .dataframe tbody tr th:only-of-type {\n",
       "        vertical-align: middle;\n",
       "    }\n",
       "\n",
       "    .dataframe tbody tr th {\n",
       "        vertical-align: top;\n",
       "    }\n",
       "\n",
       "    .dataframe thead th {\n",
       "        text-align: right;\n",
       "    }\n",
       "</style>\n",
       "<table border=\"1\" class=\"dataframe\">\n",
       "  <thead>\n",
       "    <tr style=\"text-align: right;\">\n",
       "      <th></th>\n",
       "      <th>Feature</th>\n",
       "      <th>Accuracy Coefficient</th>\n",
       "      <th>Discrimination Coefficient</th>\n",
       "    </tr>\n",
       "  </thead>\n",
       "  <tbody>\n",
       "    <tr>\n",
       "      <th>0</th>\n",
       "      <td>sex</td>\n",
       "      <td>0.003568</td>\n",
       "      <td>0.000008</td>\n",
       "    </tr>\n",
       "    <tr>\n",
       "      <th>1</th>\n",
       "      <td>age_cat</td>\n",
       "      <td>0.011273</td>\n",
       "      <td>0.000045</td>\n",
       "    </tr>\n",
       "    <tr>\n",
       "      <th>2</th>\n",
       "      <td>priors_count</td>\n",
       "      <td>0.024272</td>\n",
       "      <td>0.000045</td>\n",
       "    </tr>\n",
       "    <tr>\n",
       "      <th>3</th>\n",
       "      <td>c_charge_degree</td>\n",
       "      <td>0.001959</td>\n",
       "      <td>0.000007</td>\n",
       "    </tr>\n",
       "    <tr>\n",
       "      <th>4</th>\n",
       "      <td>length_of_stay</td>\n",
       "      <td>0.005168</td>\n",
       "      <td>0.000011</td>\n",
       "    </tr>\n",
       "  </tbody>\n",
       "</table>\n",
       "</div>"
      ],
      "text/plain": [
       "           Feature  Accuracy Coefficient  Discrimination Coefficient\n",
       "0              sex              0.003568                    0.000008\n",
       "1          age_cat              0.011273                    0.000045\n",
       "2     priors_count              0.024272                    0.000045\n",
       "3  c_charge_degree              0.001959                    0.000007\n",
       "4   length_of_stay              0.005168                    0.000011"
      ]
     },
     "execution_count": 27,
     "metadata": {},
     "output_type": "execute_result"
    }
   ],
   "source": [
    "# display result\n",
    "shapley_results = pd.DataFrame()\n",
    "shapley_results[\"Feature\"] = arr\n",
    "shapley_results[\"Accuracy Coefficient\"] = [0.003568314907946012, 0.011273246895526084,0.02427159853758174,0.001958893676796756,0.005168319175750994]\n",
    "shapley_results[\"Discrimination Coefficient\"] = [8.16082890138538e-06,4.4881509198872635e-05,4.464995590653898e-05,6.936830123648318e-06,1.0984742883746511e-05]\n",
    "shapley_results"
   ]
  },
  {
   "cell_type": "markdown",
   "metadata": {},
   "source": [
    "From the table above, we can see that **Discrimination Coefficient** of `priors_count` is highest, but **Accuracy Coefficient** is also high, so we can't ignore this feature. `length_of_stay` has a little high **Discrimination Coefficient**, and its **Accuracy Coefficient** is low, so we can ignore this feature. So finally, we can choose these four features:\n",
    "\n",
    "- `priors_count`\n",
    "- `age_cat`\n",
    "- `sex`\n",
    "- `c_charge_degree`"
   ]
  },
  {
   "cell_type": "markdown",
   "metadata": {},
   "source": [
    "#### 4.1 Logistic Regression using FFS"
   ]
  },
  {
   "cell_type": "code",
   "execution_count": 46,
   "metadata": {},
   "outputs": [],
   "source": [
    "features = df[['sex', 'age_cat', 'c_charge_degree', 'priors_count']]\n",
    "sensitive = df['race']\n",
    "target = df['two_year_recid']\n",
    "X_train, X_test, y_train, y_test, race_train, race_test = \\\n",
    "    train_test_split(features, target, sensitive, test_size=0.3, random_state=6, shuffle = True)"
   ]
  },
  {
   "cell_type": "code",
   "execution_count": 47,
   "metadata": {},
   "outputs": [
    {
     "name": "stdout",
     "output_type": "stream",
     "text": [
      "The optimal loss of logistic model is: 0.6436511330361576\n"
     ]
    },
    {
     "data": {
      "text/html": [
       "<div>\n",
       "<style scoped>\n",
       "    .dataframe tbody tr th:only-of-type {\n",
       "        vertical-align: middle;\n",
       "    }\n",
       "\n",
       "    .dataframe tbody tr th {\n",
       "        vertical-align: top;\n",
       "    }\n",
       "\n",
       "    .dataframe thead th {\n",
       "        text-align: right;\n",
       "    }\n",
       "</style>\n",
       "<table border=\"1\" class=\"dataframe\">\n",
       "  <thead>\n",
       "    <tr style=\"text-align: right;\">\n",
       "      <th></th>\n",
       "      <th>Classifier</th>\n",
       "      <th>Set</th>\n",
       "      <th>Accuracy (%)</th>\n",
       "      <th>P-rule (%)</th>\n",
       "      <th>Protected (%)</th>\n",
       "      <th>Not protected (%)</th>\n",
       "    </tr>\n",
       "  </thead>\n",
       "  <tbody>\n",
       "    <tr>\n",
       "      <th>0</th>\n",
       "      <td>FFS-LR</td>\n",
       "      <td>Train</td>\n",
       "      <td>63.405797</td>\n",
       "      <td>58.808292</td>\n",
       "      <td>23.937762</td>\n",
       "      <td>40.704739</td>\n",
       "    </tr>\n",
       "    <tr>\n",
       "      <th>1</th>\n",
       "      <td>FFS-LR</td>\n",
       "      <td>Test</td>\n",
       "      <td>61.802817</td>\n",
       "      <td>65.541470</td>\n",
       "      <td>26.449788</td>\n",
       "      <td>40.355805</td>\n",
       "    </tr>\n",
       "  </tbody>\n",
       "</table>\n",
       "</div>"
      ],
      "text/plain": [
       "  Classifier    Set  Accuracy (%)  P-rule (%)  Protected (%)  \\\n",
       "0     FFS-LR  Train     63.405797   58.808292      23.937762   \n",
       "1     FFS-LR   Test     61.802817   65.541470      26.449788   \n",
       "\n",
       "   Not protected (%)  \n",
       "0          40.704739  \n",
       "1          40.355805  "
      ]
     },
     "execution_count": 47,
     "metadata": {},
     "output_type": "execute_result"
    }
   ],
   "source": [
    "# Train model and print results\n",
    "clf = LogisticRegression(random_state = 0).fit(X_train, y_train)\n",
    "coeff = clf.coef_\n",
    "intercept = clf.intercept_\n",
    "optimal_loss = log_loss(y_train, clf.predict_proba(X_train))\n",
    "print(f'The optimal loss of logistic model is: {optimal_loss}')\n",
    "\n",
    "# Display results\n",
    "results_ffs_lr = {\"Classifier\": [\"FFS-LR\", \"FFS-LR\"],\n",
    "                  \"Set\": [\"Train\", \"Test\"],\n",
    "                  \"Accuracy (%)\": [clf.score(X_train, y_train)*100, clf.score(X_test, y_test)*100],\n",
    "                  \"P-rule (%)\": [p_rule(race_train, clf.predict(X_train))[0]*100, p_rule(race_test, clf.predict(X_test))[0]*100],\n",
    "                  \"Protected (%)\": [p_rule(race_train, clf.predict(X_train))[1]*100, p_rule(race_test, clf.predict(X_test))[1]*100],\n",
    "                  \"Not protected (%)\": [p_rule(race_train, clf.predict(X_train))[2]*100, p_rule(race_test, clf.predict(X_test))[2]*100]}\n",
    "pd.DataFrame(results_ffs_lr)"
   ]
  },
  {
   "cell_type": "markdown",
   "metadata": {},
   "source": [
    "#### 4.2 SVM using FFS"
   ]
  },
  {
   "cell_type": "code",
   "execution_count": 45,
   "metadata": {},
   "outputs": [
    {
     "name": "stdout",
     "output_type": "stream",
     "text": [
      "The optimal loss of SVM model is: 0.648341294279551\n"
     ]
    },
    {
     "data": {
      "text/html": [
       "<div>\n",
       "<style scoped>\n",
       "    .dataframe tbody tr th:only-of-type {\n",
       "        vertical-align: middle;\n",
       "    }\n",
       "\n",
       "    .dataframe tbody tr th {\n",
       "        vertical-align: top;\n",
       "    }\n",
       "\n",
       "    .dataframe thead th {\n",
       "        text-align: right;\n",
       "    }\n",
       "</style>\n",
       "<table border=\"1\" class=\"dataframe\">\n",
       "  <thead>\n",
       "    <tr style=\"text-align: right;\">\n",
       "      <th></th>\n",
       "      <th>Classifier</th>\n",
       "      <th>Set</th>\n",
       "      <th>Accuracy (%)</th>\n",
       "      <th>P-rule (%)</th>\n",
       "      <th>Protected (%)</th>\n",
       "      <th>Not protected (%)</th>\n",
       "    </tr>\n",
       "  </thead>\n",
       "  <tbody>\n",
       "    <tr>\n",
       "      <th>0</th>\n",
       "      <td>SVM</td>\n",
       "      <td>Train</td>\n",
       "      <td>62.512077</td>\n",
       "      <td>51.714542</td>\n",
       "      <td>15.918612</td>\n",
       "      <td>30.781693</td>\n",
       "    </tr>\n",
       "    <tr>\n",
       "      <th>1</th>\n",
       "      <td>SVM</td>\n",
       "      <td>Test</td>\n",
       "      <td>61.183099</td>\n",
       "      <td>57.733015</td>\n",
       "      <td>18.811881</td>\n",
       "      <td>32.584270</td>\n",
       "    </tr>\n",
       "  </tbody>\n",
       "</table>\n",
       "</div>"
      ],
      "text/plain": [
       "  Classifier    Set  Accuracy (%)  P-rule (%)  Protected (%)  \\\n",
       "0        SVM  Train     62.512077   51.714542      15.918612   \n",
       "1        SVM   Test     61.183099   57.733015      18.811881   \n",
       "\n",
       "   Not protected (%)  \n",
       "0          30.781693  \n",
       "1          32.584270  "
      ]
     },
     "execution_count": 45,
     "metadata": {},
     "output_type": "execute_result"
    }
   ],
   "source": [
    "# Train model\n",
    "svm_model = SVC(kernel = 'linear', probability = True)\n",
    "clf= svm_model.fit(X_train, y_train)\n",
    "optimal_loss = log_loss(y_train, clf.predict_proba(X_train))\n",
    "print(f'The optimal loss of SVM model is: {optimal_loss}')\n",
    "\n",
    "# Display results\n",
    "results_svm = {\"Classifier\": [\"SVM\", \"SVM\"],\n",
    "               \"Set\": [\"Train\", \"Test\"],\n",
    "               \"Accuracy (%)\": [clf.score(X_train, y_train)*100, clf.score(X_test, y_test)*100],\n",
    "               \"P-rule (%)\": [p_rule(race_train, clf.predict(X_train))[0]*100, p_rule(race_test, clf.predict(X_test))[0]*100],\n",
    "               \"Protected (%)\": [p_rule(race_train, clf.predict(X_train))[1]*100, p_rule(race_test, clf.predict(X_test))[1]*100],\n",
    "               \"Not protected (%)\": [p_rule(race_train, clf.predict(X_train))[2]*100, p_rule(race_test, clf.predict(X_test))[2]*100]}\n",
    "pd.DataFrame(results_svm)"
   ]
  },
  {
   "cell_type": "markdown",
   "metadata": {},
   "source": [
    "### Section 5: Evaluation"
   ]
  },
  {
   "cell_type": "markdown",
   "metadata": {},
   "source": []
  },
  {
   "cell_type": "code",
   "execution_count": null,
   "metadata": {},
   "outputs": [],
   "source": []
  },
  {
   "cell_type": "code",
   "execution_count": null,
   "metadata": {},
   "outputs": [],
   "source": []
  }
 ],
 "metadata": {
  "kernelspec": {
   "display_name": "Python 3 (ipykernel)",
   "language": "python",
   "name": "python3"
  },
  "language_info": {
   "codemirror_mode": {
    "name": "ipython",
    "version": 3
   },
   "file_extension": ".py",
   "mimetype": "text/x-python",
   "name": "python",
   "nbconvert_exporter": "python",
   "pygments_lexer": "ipython3",
   "version": "3.9.12"
  },
  "toc": {
   "base_numbering": 1,
   "nav_menu": {},
   "number_sections": true,
   "sideBar": true,
   "skip_h1_title": false,
   "title_cell": "Table of Contents",
   "title_sidebar": "Contents",
   "toc_cell": false,
   "toc_position": {},
   "toc_section_display": true,
   "toc_window_display": false
  },
  "varInspector": {
   "cols": {
    "lenName": 16,
    "lenType": 16,
    "lenVar": 40
   },
   "kernels_config": {
    "python": {
     "delete_cmd_postfix": "",
     "delete_cmd_prefix": "del ",
     "library": "var_list.py",
     "varRefreshCmd": "print(var_dic_list())"
    },
    "r": {
     "delete_cmd_postfix": ") ",
     "delete_cmd_prefix": "rm(",
     "library": "var_list.r",
     "varRefreshCmd": "cat(var_dic_list()) "
    }
   },
   "types_to_exclude": [
    "module",
    "function",
    "builtin_function_or_method",
    "instance",
    "_Feature"
   ],
   "window_display": false
  }
 },
 "nbformat": 4,
 "nbformat_minor": 2
}
