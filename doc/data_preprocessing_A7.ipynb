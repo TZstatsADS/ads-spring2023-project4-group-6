{
 "cells": [
  {
   "cell_type": "code",
   "execution_count": 1,
   "id": "b46cdd71",
   "metadata": {},
   "outputs": [],
   "source": [
    "import pandas as pd\n",
    "from datetime import datetime\n",
    "import csv\n",
    "import math"
   ]
  },
  {
   "cell_type": "code",
   "execution_count": 2,
   "id": "efde8d04",
   "metadata": {},
   "outputs": [
    {
     "name": "stdout",
     "output_type": "stream",
     "text": [
      "7214\n"
     ]
    }
   ],
   "source": [
    "# Load data and explore\n",
    "raw_data = pd.read_csv(\"../data/compas-scores-two-years.csv\")\n",
    "print(raw_data.shape[0])"
   ]
  },
  {
   "cell_type": "code",
   "execution_count": 3,
   "id": "2aef2c0f",
   "metadata": {},
   "outputs": [
    {
     "data": {
      "text/plain": [
       "id                                              5\n",
       "name                                  marcu brown\n",
       "first                                       marcu\n",
       "last                                        brown\n",
       "compas_screening_date                  2013-01-13\n",
       "sex                                          Male\n",
       "dob                                    1993-01-21\n",
       "age                                            23\n",
       "age_cat                              Less than 25\n",
       "race                             African-American\n",
       "juv_fel_count                                   0\n",
       "decile_score                                    8\n",
       "juv_misd_count                                  1\n",
       "juv_other_count                                 0\n",
       "priors_count                                    1\n",
       "days_b_screening_arrest                       NaN\n",
       "c_jail_in                                     NaN\n",
       "c_jail_out                                    NaN\n",
       "c_case_number                       13000570CF10A\n",
       "c_offense_date                         2013-01-12\n",
       "c_arrest_date                                 NaN\n",
       "c_days_from_compas                            1.0\n",
       "c_charge_degree                                 F\n",
       "c_charge_desc              Possession of Cannabis\n",
       "is_recid                                        0\n",
       "r_case_number                                 NaN\n",
       "r_charge_degree                               NaN\n",
       "r_days_from_arrest                            NaN\n",
       "r_offense_date                                NaN\n",
       "r_charge_desc                                 NaN\n",
       "r_jail_in                                     NaN\n",
       "r_jail_out                                    NaN\n",
       "violent_recid                                 NaN\n",
       "is_violent_recid                                0\n",
       "vr_case_number                                NaN\n",
       "vr_charge_degree                              NaN\n",
       "vr_offense_date                               NaN\n",
       "vr_charge_desc                                NaN\n",
       "type_of_assessment             Risk of Recidivism\n",
       "decile_score.1                                  8\n",
       "score_text                                   High\n",
       "screening_date                         2013-01-13\n",
       "v_type_of_assessment             Risk of Violence\n",
       "v_decile_score                                  6\n",
       "v_score_text                               Medium\n",
       "v_screening_date                       2013-01-13\n",
       "in_custody                                    NaN\n",
       "out_custody                                   NaN\n",
       "priors_count.1                                  1\n",
       "start                                           0\n",
       "end                                          1174\n",
       "event                                           0\n",
       "two_year_recid                                  0\n",
       "Name: 3, dtype: object"
      ]
     },
     "execution_count": 3,
     "metadata": {},
     "output_type": "execute_result"
    }
   ],
   "source": [
    "raw_data.loc[3]"
   ]
  },
  {
   "cell_type": "code",
   "execution_count": 4,
   "id": "879d65e5",
   "metadata": {},
   "outputs": [],
   "source": [
    "# Filter data for only Caucasians and African-Americans\n",
    "df = raw_data.loc[raw_data['race'].isin(['Caucasian', 'African-American']),\n",
    "                  ['sex', 'age_cat', 'race', 'priors_count', 'c_charge_degree', 'c_jail_in', 'c_jail_out', 'two_year_recid']]"
   ]
  },
  {
   "cell_type": "code",
   "execution_count": 5,
   "id": "72f9981a",
   "metadata": {},
   "outputs": [],
   "source": [
    "# Create new column for length of stay and remove NAs\n",
    "df['c_jail_in'] = pd.to_datetime(df['c_jail_in'])\n",
    "df['c_jail_out'] = pd.to_datetime(df['c_jail_out'])\n",
    "df['length_of_stay'] = (df['c_jail_out'] - df['c_jail_in']).dt.days\n",
    "df = df.dropna(subset=['length_of_stay'])\n",
    "# Change variables into factors"
   ]
  },
  {
   "cell_type": "code",
   "execution_count": 6,
   "id": "74ab76d3",
   "metadata": {},
   "outputs": [
    {
     "data": {
      "text/html": [
       "<div>\n",
       "<style scoped>\n",
       "    .dataframe tbody tr th:only-of-type {\n",
       "        vertical-align: middle;\n",
       "    }\n",
       "\n",
       "    .dataframe tbody tr th {\n",
       "        vertical-align: top;\n",
       "    }\n",
       "\n",
       "    .dataframe thead th {\n",
       "        text-align: right;\n",
       "    }\n",
       "</style>\n",
       "<table border=\"1\" class=\"dataframe\">\n",
       "  <thead>\n",
       "    <tr style=\"text-align: right;\">\n",
       "      <th></th>\n",
       "      <th>sex</th>\n",
       "      <th>age_cat</th>\n",
       "      <th>race</th>\n",
       "      <th>priors_count</th>\n",
       "      <th>c_charge_degree</th>\n",
       "      <th>c_jail_in</th>\n",
       "      <th>c_jail_out</th>\n",
       "      <th>two_year_recid</th>\n",
       "      <th>length_of_stay</th>\n",
       "    </tr>\n",
       "  </thead>\n",
       "  <tbody>\n",
       "    <tr>\n",
       "      <th>1</th>\n",
       "      <td>Male</td>\n",
       "      <td>25 - 45</td>\n",
       "      <td>African-American</td>\n",
       "      <td>0</td>\n",
       "      <td>F</td>\n",
       "      <td>2013-01-26 03:45:27</td>\n",
       "      <td>2013-02-05 05:36:53</td>\n",
       "      <td>1</td>\n",
       "      <td>10.0</td>\n",
       "    </tr>\n",
       "    <tr>\n",
       "      <th>2</th>\n",
       "      <td>Male</td>\n",
       "      <td>Less than 25</td>\n",
       "      <td>African-American</td>\n",
       "      <td>4</td>\n",
       "      <td>F</td>\n",
       "      <td>2013-04-13 04:58:34</td>\n",
       "      <td>2013-04-14 07:02:04</td>\n",
       "      <td>1</td>\n",
       "      <td>1.0</td>\n",
       "    </tr>\n",
       "    <tr>\n",
       "      <th>6</th>\n",
       "      <td>Male</td>\n",
       "      <td>25 - 45</td>\n",
       "      <td>Caucasian</td>\n",
       "      <td>14</td>\n",
       "      <td>F</td>\n",
       "      <td>2014-02-18 05:08:24</td>\n",
       "      <td>2014-02-24 12:18:30</td>\n",
       "      <td>1</td>\n",
       "      <td>6.0</td>\n",
       "    </tr>\n",
       "    <tr>\n",
       "      <th>8</th>\n",
       "      <td>Female</td>\n",
       "      <td>25 - 45</td>\n",
       "      <td>Caucasian</td>\n",
       "      <td>0</td>\n",
       "      <td>M</td>\n",
       "      <td>2014-03-15 05:35:34</td>\n",
       "      <td>2014-03-18 04:28:46</td>\n",
       "      <td>0</td>\n",
       "      <td>2.0</td>\n",
       "    </tr>\n",
       "    <tr>\n",
       "      <th>9</th>\n",
       "      <td>Male</td>\n",
       "      <td>Less than 25</td>\n",
       "      <td>Caucasian</td>\n",
       "      <td>1</td>\n",
       "      <td>F</td>\n",
       "      <td>2015-01-06 03:55:34</td>\n",
       "      <td>2015-01-07 03:38:44</td>\n",
       "      <td>1</td>\n",
       "      <td>0.0</td>\n",
       "    </tr>\n",
       "  </tbody>\n",
       "</table>\n",
       "</div>"
      ],
      "text/plain": [
       "      sex       age_cat              race  priors_count c_charge_degree  \\\n",
       "1    Male       25 - 45  African-American             0               F   \n",
       "2    Male  Less than 25  African-American             4               F   \n",
       "6    Male       25 - 45         Caucasian            14               F   \n",
       "8  Female       25 - 45         Caucasian             0               M   \n",
       "9    Male  Less than 25         Caucasian             1               F   \n",
       "\n",
       "            c_jail_in          c_jail_out  two_year_recid  length_of_stay  \n",
       "1 2013-01-26 03:45:27 2013-02-05 05:36:53               1            10.0  \n",
       "2 2013-04-13 04:58:34 2013-04-14 07:02:04               1             1.0  \n",
       "6 2014-02-18 05:08:24 2014-02-24 12:18:30               1             6.0  \n",
       "8 2014-03-15 05:35:34 2014-03-18 04:28:46               0             2.0  \n",
       "9 2015-01-06 03:55:34 2015-01-07 03:38:44               1             0.0  "
      ]
     },
     "execution_count": 6,
     "metadata": {},
     "output_type": "execute_result"
    }
   ],
   "source": [
    "df.head()"
   ]
  },
  {
   "cell_type": "code",
   "execution_count": 7,
   "id": "b4f0b929",
   "metadata": {},
   "outputs": [
    {
     "name": "stdout",
     "output_type": "stream",
     "text": [
      "['F' 'M']\n"
     ]
    }
   ],
   "source": [
    "print(df[\"c_charge_degree\"].unique())"
   ]
  },
  {
   "cell_type": "code",
   "execution_count": 8,
   "id": "0d55581d",
   "metadata": {},
   "outputs": [],
   "source": [
    "def prior_count(x):\n",
    "    if x==0:\n",
    "        return 0\n",
    "    if x<=3:\n",
    "        return 1\n",
    "    return 2\n",
    "def length_of_stay(x):\n",
    "    if x<=7:\n",
    "        return 0\n",
    "    if x<=90:\n",
    "        return 1\n",
    "    return 2\n",
    "def age_cat(x):\n",
    "    if x==\"Less than 25\":\n",
    "        return 0\n",
    "    if x==\"25 - 45\":\n",
    "        return 1\n",
    "    return 2\n",
    "def race(x):\n",
    "    if x==\"African-American\":\n",
    "        return 0\n",
    "    return 1\n",
    "def sex(x):\n",
    "    if x==\"Male\":\n",
    "        return 0\n",
    "    return 1\n",
    "def c_charge_degree(x):\n",
    "    if x==\"M\":\n",
    "        return 0\n",
    "    return 1"
   ]
  },
  {
   "cell_type": "code",
   "execution_count": 9,
   "id": "13ddab25",
   "metadata": {},
   "outputs": [],
   "source": [
    "df['two_year_recid'] = df['two_year_recid'].astype('category')\n",
    "df['age_cat'] = df['age_cat'].map(lambda x:age_cat(x))\n",
    "df['c_charge_degree'] = df['c_charge_degree'].map(lambda x:c_charge_degree(x))\n",
    "df['sex']=df['sex'].map(lambda x:sex(x))\n",
    "df['priors_count']=df['priors_count'].map(lambda x:prior_count(x))\n",
    "df['length_of_stay']=df['length_of_stay'].map(lambda x:length_of_stay(x))\n",
    "df['race']=df['race'].map(lambda x:race(x))"
   ]
  },
  {
   "cell_type": "code",
   "execution_count": 10,
   "id": "17fd6642",
   "metadata": {},
   "outputs": [],
   "source": [
    "# Drop c_jail_in and c_jail_out columns from the DataFrame\n",
    "df.drop(['c_jail_in', 'c_jail_out'], axis=1, inplace=True)"
   ]
  },
  {
   "cell_type": "code",
   "execution_count": 11,
   "id": "9499fd1c",
   "metadata": {},
   "outputs": [
    {
     "data": {
      "text/html": [
       "<div>\n",
       "<style scoped>\n",
       "    .dataframe tbody tr th:only-of-type {\n",
       "        vertical-align: middle;\n",
       "    }\n",
       "\n",
       "    .dataframe tbody tr th {\n",
       "        vertical-align: top;\n",
       "    }\n",
       "\n",
       "    .dataframe thead th {\n",
       "        text-align: right;\n",
       "    }\n",
       "</style>\n",
       "<table border=\"1\" class=\"dataframe\">\n",
       "  <thead>\n",
       "    <tr style=\"text-align: right;\">\n",
       "      <th></th>\n",
       "      <th>sex</th>\n",
       "      <th>age_cat</th>\n",
       "      <th>race</th>\n",
       "      <th>priors_count</th>\n",
       "      <th>c_charge_degree</th>\n",
       "      <th>two_year_recid</th>\n",
       "      <th>length_of_stay</th>\n",
       "    </tr>\n",
       "  </thead>\n",
       "  <tbody>\n",
       "    <tr>\n",
       "      <th>1</th>\n",
       "      <td>0</td>\n",
       "      <td>1</td>\n",
       "      <td>0</td>\n",
       "      <td>0</td>\n",
       "      <td>1</td>\n",
       "      <td>1</td>\n",
       "      <td>1</td>\n",
       "    </tr>\n",
       "    <tr>\n",
       "      <th>2</th>\n",
       "      <td>0</td>\n",
       "      <td>0</td>\n",
       "      <td>0</td>\n",
       "      <td>2</td>\n",
       "      <td>1</td>\n",
       "      <td>1</td>\n",
       "      <td>0</td>\n",
       "    </tr>\n",
       "    <tr>\n",
       "      <th>6</th>\n",
       "      <td>0</td>\n",
       "      <td>1</td>\n",
       "      <td>1</td>\n",
       "      <td>2</td>\n",
       "      <td>1</td>\n",
       "      <td>1</td>\n",
       "      <td>0</td>\n",
       "    </tr>\n",
       "    <tr>\n",
       "      <th>8</th>\n",
       "      <td>1</td>\n",
       "      <td>1</td>\n",
       "      <td>1</td>\n",
       "      <td>0</td>\n",
       "      <td>0</td>\n",
       "      <td>0</td>\n",
       "      <td>0</td>\n",
       "    </tr>\n",
       "    <tr>\n",
       "      <th>9</th>\n",
       "      <td>0</td>\n",
       "      <td>0</td>\n",
       "      <td>1</td>\n",
       "      <td>1</td>\n",
       "      <td>1</td>\n",
       "      <td>1</td>\n",
       "      <td>0</td>\n",
       "    </tr>\n",
       "  </tbody>\n",
       "</table>\n",
       "</div>"
      ],
      "text/plain": [
       "   sex  age_cat  race  priors_count  c_charge_degree two_year_recid  \\\n",
       "1    0        1     0             0                1              1   \n",
       "2    0        0     0             2                1              1   \n",
       "6    0        1     1             2                1              1   \n",
       "8    1        1     1             0                0              0   \n",
       "9    0        0     1             1                1              1   \n",
       "\n",
       "   length_of_stay  \n",
       "1               1  \n",
       "2               0  \n",
       "6               0  \n",
       "8               0  \n",
       "9               0  "
      ]
     },
     "execution_count": 11,
     "metadata": {},
     "output_type": "execute_result"
    }
   ],
   "source": [
    "df.head()"
   ]
  },
  {
   "cell_type": "raw",
   "id": "f1d063b1",
   "metadata": {},
   "source": [
    "df.to_csv(\"../output/compas-scores-two-years_cleaned_A7.csv\", index=False)"
   ]
  }
 ],
 "metadata": {
  "kernelspec": {
   "display_name": "Python 3 (ipykernel)",
   "language": "python",
   "name": "python3"
  },
  "language_info": {
   "codemirror_mode": {
    "name": "ipython",
    "version": 3
   },
   "file_extension": ".py",
   "mimetype": "text/x-python",
   "name": "python",
   "nbconvert_exporter": "python",
   "pygments_lexer": "ipython3",
   "version": "3.9.7"
  }
 },
 "nbformat": 4,
 "nbformat_minor": 5
}
