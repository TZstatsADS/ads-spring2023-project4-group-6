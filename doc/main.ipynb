{
 "cells": [
  {
   "cell_type": "markdown",
   "metadata": {},
   "source": [
    "# ADS Project 4: Machine Learning Fairness\n",
    "## Spring 2023"
   ]
  },
  {
   "cell_type": "code",
   "execution_count": null,
   "metadata": {},
   "outputs": [],
   "source": [
    "# Load modules\n",
    "!pip install prince\n",
    "import os, sys\n",
    "import numpy as np\n",
    "import pandas as pd\n",
    "from sklearn.linear_model import LogisticRegression\n",
    "from sklearn.utils import shuffle\n",
    "from sklearn.metrics import log_loss\n",
    "from sklearn.preprocessing import LabelEncoder\n",
    "from sklearn.model_selection import train_test_split\n",
    "import A2_algorithm_function as ut\n",
    "import A2_loss_function as lf\n",
    "from A7_algorithm_function import *\n",
    "import warnings\n",
    "from c_svm import SVM\n",
    "import matplotlib.pyplot as plt\n",
    "from prince import CA"
   ]
  },
  {
   "cell_type": "markdown",
   "metadata": {},
   "source": [
    "+ The cleaned COMPAS dataset is provided in `../output/compas-scores-two-years_cleaned.csv`. \n",
    "\n",
    "### Section 1: Load Data"
   ]
  },
  {
   "cell_type": "code",
   "execution_count": 2,
   "metadata": {},
   "outputs": [
    {
     "data": {
      "text/html": [
       "<div>\n",
       "<style scoped>\n",
       "    .dataframe tbody tr th:only-of-type {\n",
       "        vertical-align: middle;\n",
       "    }\n",
       "\n",
       "    .dataframe tbody tr th {\n",
       "        vertical-align: top;\n",
       "    }\n",
       "\n",
       "    .dataframe thead th {\n",
       "        text-align: right;\n",
       "    }\n",
       "</style>\n",
       "<table border=\"1\" class=\"dataframe\">\n",
       "  <thead>\n",
       "    <tr style=\"text-align: right;\">\n",
       "      <th></th>\n",
       "      <th>sex</th>\n",
       "      <th>age_cat</th>\n",
       "      <th>race</th>\n",
       "      <th>priors_count</th>\n",
       "      <th>c_charge_degree</th>\n",
       "      <th>two_year_recid</th>\n",
       "      <th>length_of_stay</th>\n",
       "    </tr>\n",
       "  </thead>\n",
       "  <tbody>\n",
       "    <tr>\n",
       "      <th>0</th>\n",
       "      <td>Male</td>\n",
       "      <td>25 - 45</td>\n",
       "      <td>African-American</td>\n",
       "      <td>-0.733607</td>\n",
       "      <td>F</td>\n",
       "      <td>1</td>\n",
       "      <td>-0.167773</td>\n",
       "    </tr>\n",
       "    <tr>\n",
       "      <th>1</th>\n",
       "      <td>Male</td>\n",
       "      <td>&lt; 25</td>\n",
       "      <td>African-American</td>\n",
       "      <td>0.055928</td>\n",
       "      <td>F</td>\n",
       "      <td>1</td>\n",
       "      <td>-0.340654</td>\n",
       "    </tr>\n",
       "    <tr>\n",
       "      <th>2</th>\n",
       "      <td>Male</td>\n",
       "      <td>25 - 45</td>\n",
       "      <td>Caucasian</td>\n",
       "      <td>2.029767</td>\n",
       "      <td>F</td>\n",
       "      <td>1</td>\n",
       "      <td>-0.244609</td>\n",
       "    </tr>\n",
       "  </tbody>\n",
       "</table>\n",
       "</div>"
      ],
      "text/plain": [
       "    sex  age_cat              race  priors_count c_charge_degree  \\\n",
       "0  Male  25 - 45  African-American     -0.733607               F   \n",
       "1  Male     < 25  African-American      0.055928               F   \n",
       "2  Male  25 - 45         Caucasian      2.029767               F   \n",
       "\n",
       "   two_year_recid  length_of_stay  \n",
       "0               1       -0.167773  \n",
       "1               1       -0.340654  \n",
       "2               1       -0.244609  "
      ]
     },
     "execution_count": 2,
     "metadata": {},
     "output_type": "execute_result"
    }
   ],
   "source": [
    "df =  pd.read_csv('../output/compas-scores-two-years_cleaned.csv')\n",
    "df.head(3)"
   ]
  },
  {
   "cell_type": "code",
   "execution_count": 3,
   "metadata": {},
   "outputs": [],
   "source": [
    "# change categorical data into numerical\n",
    "le = LabelEncoder()\n",
    "df['sex'] = le.fit_transform(df['sex'])\n",
    "df['age_cat'] = le.fit_transform(df['age_cat'])\n",
    "df['race'] = le.fit_transform(df['race'])\n",
    "df['c_charge_degree'] = le.fit_transform(df['c_charge_degree'])"
   ]
  },
  {
   "cell_type": "markdown",
   "metadata": {},
   "source": [
    "Encode categorical variables with numerical variables:\n",
    "+ `sex`: 1 for male and 0 for female\n",
    "+ `age_cat`: 2 for > 45, 0 for 25 - 45 and 1 for < 25\n",
    "+ `race`: 1 for caucasian and 0 for african-american\n",
    "+ `c_charge_degree`: 0 for F and 1 for M"
   ]
  },
  {
   "cell_type": "code",
   "execution_count": 4,
   "metadata": {},
   "outputs": [
    {
     "data": {
      "text/plain": [
       "(1    4751\n",
       " 0    1164\n",
       " Name: sex, dtype: int64,\n",
       " 0    3378\n",
       " 1    1281\n",
       " 2    1256\n",
       " Name: age_cat, dtype: int64,\n",
       " 0    3537\n",
       " 1    2378\n",
       " Name: race, dtype: int64,\n",
       " 0    3904\n",
       " 1    2011\n",
       " Name: c_charge_degree, dtype: int64)"
      ]
     },
     "execution_count": 4,
     "metadata": {},
     "output_type": "execute_result"
    }
   ],
   "source": [
    "# \n",
    "df['sex'].value_counts(), df['age_cat'].value_counts(), df['race'].value_counts(), df['c_charge_degree'].value_counts()"
   ]
  },
  {
   "cell_type": "code",
   "execution_count": 5,
   "metadata": {},
   "outputs": [],
   "source": [
    "features = df[['sex', 'age_cat', 'c_charge_degree', 'length_of_stay',\"priors_count\"]]\n",
    "sensitive = df['race']\n",
    "target = df['two_year_recid']\n",
    "X_train, X_test, y_train, y_test, race_train, race_test = \\\n",
    "    train_test_split(features, target, sensitive, test_size=0.3, random_state=6, shuffle = True)"
   ]
  },
  {
   "cell_type": "markdown",
   "metadata": {},
   "source": [
    "+ **Protected**: Caucasians (i.e., `race == 1`)\n",
    "+ **Not protected**: African-Americans (i.e., `race == 0`)"
   ]
  },
  {
   "cell_type": "code",
   "execution_count": 6,
   "metadata": {},
   "outputs": [
    {
     "data": {
      "text/html": [
       "<div>\n",
       "<style scoped>\n",
       "    .dataframe tbody tr th:only-of-type {\n",
       "        vertical-align: middle;\n",
       "    }\n",
       "\n",
       "    .dataframe tbody tr th {\n",
       "        vertical-align: top;\n",
       "    }\n",
       "\n",
       "    .dataframe thead th {\n",
       "        text-align: right;\n",
       "    }\n",
       "</style>\n",
       "<table border=\"1\" class=\"dataframe\">\n",
       "  <thead>\n",
       "    <tr style=\"text-align: right;\">\n",
       "      <th></th>\n",
       "      <th>sex</th>\n",
       "      <th>age_cat</th>\n",
       "      <th>race</th>\n",
       "      <th>priors_count</th>\n",
       "      <th>c_charge_degree</th>\n",
       "      <th>two_year_recid</th>\n",
       "      <th>length_of_stay</th>\n",
       "    </tr>\n",
       "  </thead>\n",
       "  <tbody>\n",
       "    <tr>\n",
       "      <th>0</th>\n",
       "      <td>1</td>\n",
       "      <td>0</td>\n",
       "      <td>0</td>\n",
       "      <td>-0.733607</td>\n",
       "      <td>0</td>\n",
       "      <td>1</td>\n",
       "      <td>-0.167773</td>\n",
       "    </tr>\n",
       "    <tr>\n",
       "      <th>1</th>\n",
       "      <td>1</td>\n",
       "      <td>1</td>\n",
       "      <td>0</td>\n",
       "      <td>0.055928</td>\n",
       "      <td>0</td>\n",
       "      <td>1</td>\n",
       "      <td>-0.340654</td>\n",
       "    </tr>\n",
       "    <tr>\n",
       "      <th>2</th>\n",
       "      <td>1</td>\n",
       "      <td>0</td>\n",
       "      <td>1</td>\n",
       "      <td>2.029767</td>\n",
       "      <td>0</td>\n",
       "      <td>1</td>\n",
       "      <td>-0.244609</td>\n",
       "    </tr>\n",
       "    <tr>\n",
       "      <th>3</th>\n",
       "      <td>0</td>\n",
       "      <td>0</td>\n",
       "      <td>1</td>\n",
       "      <td>-0.733607</td>\n",
       "      <td>1</td>\n",
       "      <td>0</td>\n",
       "      <td>-0.321445</td>\n",
       "    </tr>\n",
       "    <tr>\n",
       "      <th>4</th>\n",
       "      <td>1</td>\n",
       "      <td>1</td>\n",
       "      <td>1</td>\n",
       "      <td>-0.536224</td>\n",
       "      <td>0</td>\n",
       "      <td>1</td>\n",
       "      <td>-0.359864</td>\n",
       "    </tr>\n",
       "  </tbody>\n",
       "</table>\n",
       "</div>"
      ],
      "text/plain": [
       "   sex  age_cat  race  priors_count  c_charge_degree  two_year_recid  \\\n",
       "0    1        0     0     -0.733607                0               1   \n",
       "1    1        1     0      0.055928                0               1   \n",
       "2    1        0     1      2.029767                0               1   \n",
       "3    0        0     1     -0.733607                1               0   \n",
       "4    1        1     1     -0.536224                0               1   \n",
       "\n",
       "   length_of_stay  \n",
       "0       -0.167773  \n",
       "1       -0.340654  \n",
       "2       -0.244609  \n",
       "3       -0.321445  \n",
       "4       -0.359864  "
      ]
     },
     "execution_count": 6,
     "metadata": {},
     "output_type": "execute_result"
    }
   ],
   "source": [
    "df.head()"
   ]
  },
  {
   "cell_type": "markdown",
   "metadata": {},
   "source": [
    "The p-rule  function is commonly used in evaluate fairness in machine learning model, by checking whether the model's positive predictions are distributed similarly across different sensitive groups. The higher the p-rule, the better the fairness."
   ]
  },
  {
   "cell_type": "code",
   "execution_count": 7,
   "metadata": {},
   "outputs": [],
   "source": [
    "# Function to compute p-rule\n",
    "def p_rule(sensitive_var, y_pred):\n",
    "    protected = np.where(sensitive_var == 1)[0]\n",
    "    not_protected = np.where(sensitive_var == 0)[0]\n",
    "    protected_pred = np.where(y_pred[protected] == 1)\n",
    "    not_protected_pred = np.where(y_pred[not_protected] == 1)\n",
    "    protected_percent = protected_pred[0].shape[0]/protected.shape[0]\n",
    "    not_protected_percent = not_protected_pred[0].shape[0]/not_protected.shape[0]\n",
    "    ratio = min(protected_percent/not_protected_percent, not_protected_percent/protected_percent)\n",
    "    \n",
    "    return ratio, protected_percent, not_protected_percent"
   ]
  },
  {
   "cell_type": "code",
   "execution_count": 8,
   "metadata": {},
   "outputs": [],
   "source": [
    "def calibration(y_true, y_pred, sensitive_features):\n",
    "    y_true = np.array(y_true)\n",
    "    y_pred = np.array(y_pred)\n",
    "\n",
    "    c_index = np.where(sensitive_features == 1)[0]           \n",
    "    a_index = np.where(sensitive_features == 0)[0]       \n",
    "    \n",
    "    y_pred_c = y_pred[c_index]           \n",
    "    y_true_c = y_true[c_index] \n",
    "    acc_c = sum(y_pred_c == y_true_c)/len(y_pred_c)\n",
    "\n",
    "    y_pred_a = y_pred[a_index]   \n",
    "    y_true_a = y_true[a_index]\n",
    "    acc_a = sum(y_pred_a == y_true_a)/len(y_pred_a)\n",
    "\n",
    "    calibration = abs(acc_c - acc_a) * 100\n",
    "    return(calibration)"
   ]
  },
  {
   "cell_type": "markdown",
   "metadata": {},
   "source": [
    "The \"80% rule\" (or the p%-rule) is a guideline established by the U.S. Equal Employment Opportunity Commission (EEOC) to help identify potential discrimination in hiring, promotion, or other employment decisions. It's a way to measure fairness and equal opportunity in these processes, particularly concerning sensitive attributes such as race, gender, age, or disability."
   ]
  },
  {
   "cell_type": "markdown",
   "metadata": {},
   "source": [
    "### Section 2: Logistic Regression\n",
    "#### 2.1 Baseline Model\n",
    "First, we train a baseline model without constaint, and then evaluate it's accuaracy and fairness."
   ]
  },
  {
   "cell_type": "code",
   "execution_count": 9,
   "metadata": {},
   "outputs": [
    {
     "name": "stdout",
     "output_type": "stream",
     "text": [
      "The optimal loss of logistic model is: 0.6407097826469522\n"
     ]
    }
   ],
   "source": [
    "clf = LogisticRegression(random_state= 6).fit(X_train, y_train)\n",
    "coeff = clf.coef_\n",
    "intercept = clf.intercept_\n",
    "optimal_loss = log_loss(y_train, clf.predict_proba(X_train))\n",
    "print(f'The optimal loss of logistic model is: {optimal_loss}')"
   ]
  },
  {
   "cell_type": "markdown",
   "metadata": {},
   "source": [
    "+ Accuracy & Fairness check:"
   ]
  },
  {
   "cell_type": "code",
   "execution_count": 10,
   "metadata": {},
   "outputs": [
    {
     "data": {
      "text/html": [
       "<div>\n",
       "<style scoped>\n",
       "    .dataframe tbody tr th:only-of-type {\n",
       "        vertical-align: middle;\n",
       "    }\n",
       "\n",
       "    .dataframe tbody tr th {\n",
       "        vertical-align: top;\n",
       "    }\n",
       "\n",
       "    .dataframe thead th {\n",
       "        text-align: right;\n",
       "    }\n",
       "</style>\n",
       "<table border=\"1\" class=\"dataframe\">\n",
       "  <thead>\n",
       "    <tr style=\"text-align: right;\">\n",
       "      <th></th>\n",
       "      <th>Classifier</th>\n",
       "      <th>Set</th>\n",
       "      <th>Accuracy (%)</th>\n",
       "      <th>P-rule (%)</th>\n",
       "      <th>Protected (%)</th>\n",
       "      <th>Not protected (%)</th>\n",
       "    </tr>\n",
       "  </thead>\n",
       "  <tbody>\n",
       "    <tr>\n",
       "      <th>0</th>\n",
       "      <td>LR</td>\n",
       "      <td>Train</td>\n",
       "      <td>63.743961</td>\n",
       "      <td>55.108121</td>\n",
       "      <td>21.962896</td>\n",
       "      <td>39.854192</td>\n",
       "    </tr>\n",
       "    <tr>\n",
       "      <th>1</th>\n",
       "      <td>LR</td>\n",
       "      <td>Test</td>\n",
       "      <td>62.028169</td>\n",
       "      <td>59.382529</td>\n",
       "      <td>24.186704</td>\n",
       "      <td>40.730337</td>\n",
       "    </tr>\n",
       "  </tbody>\n",
       "</table>\n",
       "</div>"
      ],
      "text/plain": [
       "  Classifier    Set  Accuracy (%)  P-rule (%)  Protected (%)  \\\n",
       "0         LR  Train     63.743961   55.108121      21.962896   \n",
       "1         LR   Test     62.028169   59.382529      24.186704   \n",
       "\n",
       "   Not protected (%)  \n",
       "0          39.854192  \n",
       "1          40.730337  "
      ]
     },
     "execution_count": 10,
     "metadata": {},
     "output_type": "execute_result"
    }
   ],
   "source": [
    "results_lr = {\"Classifier\": [\"LR\", \"LR\"], \n",
    "              \"Set\": [\"Train\", \"Test\"],\n",
    "              \"Accuracy (%)\": [clf.score(X_train, y_train)*100, clf.score(X_test, y_test)*100],\n",
    "              \"P-rule (%)\": [p_rule(race_train, clf.predict(X_train))[0]*100, p_rule(race_test, clf.predict(X_test))[0]*100],\n",
    "              \"Protected (%)\": [p_rule(race_train, clf.predict(X_train))[1]*100, p_rule(race_test, clf.predict(X_test))[1]*100],\n",
    "              \"Not protected (%)\": [p_rule(race_train, clf.predict(X_train))[2]*100, p_rule(race_test, clf.predict(X_test))[2]*100]}\n",
    "pd.DataFrame(results_lr)"
   ]
  },
  {
   "cell_type": "markdown",
   "metadata": {},
   "source": [
    "### Interpretation:"
   ]
  },
  {
   "cell_type": "markdown",
   "metadata": {},
   "source": [
    "The p-rule, a fairness metric, indicates that there is some bias in the model (lower than 80%). This suggests that the classifier's performance could be improved in terms of both accuracy and fairness, particularly by addressing the disparity in positive outcomes between the protected and non-protected groups."
   ]
  },
  {
   "cell_type": "markdown",
   "metadata": {},
   "source": [
    "#### 2.2 Optimizing classifier accuracy subject to fairness constraints"
   ]
  },
  {
   "cell_type": "markdown",
   "metadata": {},
   "source": [
    "The fairness constraint is set to achieve a 0 covariance between the sensitive feature (race) and the distance to the decision boundary. A 0 covariance means there is no correlation between the two variables, which helps promote fairness."
   ]
  },
  {
   "cell_type": "markdown",
   "metadata": {},
   "source": [
    "1. Train the model using constraints to extract model weights (cweight). "
   ]
  },
  {
   "cell_type": "code",
   "execution_count": 11,
   "metadata": {},
   "outputs": [],
   "source": [
    "# Setting Constrains\n",
    "#In this case, only fairness constraints are applied (apply_fairness_constraints = 1)\n",
    "# While accuracy constraint and separate constraint are not applied (both set to 0).\n",
    "fairness_constraint = 1 \n",
    "accuracy_constraint = 0\n",
    "separate_constraint = 0\n",
    "gamma = None\n",
    "sensitive_attrs = ['race']\n",
    "sensitive_attrs_to_cov_thresh = {'race': 0}\n",
    "x_control = {'race': race_train}"
   ]
  },
  {
   "cell_type": "code",
   "execution_count": 12,
   "metadata": {},
   "outputs": [],
   "source": [
    "# Training model with constraints\n",
    "np.random.seed(704)\n",
    "cweight = ut.train_model(X_train,\n",
    "                   y_train,\n",
    "                   x_control,\n",
    "                   lf._logistic_loss,\n",
    "                   fairness_constraint,\n",
    "                   accuracy_constraint,\n",
    "                   separate_constraint,\n",
    "                   sensitive_attrs,\n",
    "                   sensitive_attrs_to_cov_thresh,\n",
    "                   gamma)"
   ]
  },
  {
   "cell_type": "markdown",
   "metadata": {},
   "source": [
    "2. Feed the model with trained weights"
   ]
  },
  {
   "cell_type": "code",
   "execution_count": 13,
   "metadata": {},
   "outputs": [],
   "source": [
    "# Feeding model with coefficients and weights\n",
    "m = LogisticRegression()\n",
    "m.coef_= cweight.reshape((1,-1))\n",
    "m.intercept_ = 0\n",
    "m.classes_ = np.array([0, 1])"
   ]
  },
  {
   "cell_type": "markdown",
   "metadata": {},
   "source": [
    "+ Accuracy & Fairness check:"
   ]
  },
  {
   "cell_type": "code",
   "execution_count": 14,
   "metadata": {},
   "outputs": [
    {
     "data": {
      "text/html": [
       "<div>\n",
       "<style scoped>\n",
       "    .dataframe tbody tr th:only-of-type {\n",
       "        vertical-align: middle;\n",
       "    }\n",
       "\n",
       "    .dataframe tbody tr th {\n",
       "        vertical-align: top;\n",
       "    }\n",
       "\n",
       "    .dataframe thead th {\n",
       "        text-align: right;\n",
       "    }\n",
       "</style>\n",
       "<table border=\"1\" class=\"dataframe\">\n",
       "  <thead>\n",
       "    <tr style=\"text-align: right;\">\n",
       "      <th></th>\n",
       "      <th>Classifier</th>\n",
       "      <th>Set</th>\n",
       "      <th>Accuracy (%)</th>\n",
       "      <th>P-rule (%)</th>\n",
       "      <th>Protected (%)</th>\n",
       "      <th>Not protected (%)</th>\n",
       "    </tr>\n",
       "  </thead>\n",
       "  <tbody>\n",
       "    <tr>\n",
       "      <th>0</th>\n",
       "      <td>C-LR</td>\n",
       "      <td>Train</td>\n",
       "      <td>48.405797</td>\n",
       "      <td>99.319527</td>\n",
       "      <td>94.733692</td>\n",
       "      <td>95.382746</td>\n",
       "    </tr>\n",
       "    <tr>\n",
       "      <th>1</th>\n",
       "      <td>C-LR</td>\n",
       "      <td>Test</td>\n",
       "      <td>49.633803</td>\n",
       "      <td>99.378233</td>\n",
       "      <td>95.190948</td>\n",
       "      <td>95.786517</td>\n",
       "    </tr>\n",
       "  </tbody>\n",
       "</table>\n",
       "</div>"
      ],
      "text/plain": [
       "  Classifier    Set  Accuracy (%)  P-rule (%)  Protected (%)  \\\n",
       "0       C-LR  Train     48.405797   99.319527      94.733692   \n",
       "1       C-LR   Test     49.633803   99.378233      95.190948   \n",
       "\n",
       "   Not protected (%)  \n",
       "0          95.382746  \n",
       "1          95.786517  "
      ]
     },
     "execution_count": 14,
     "metadata": {},
     "output_type": "execute_result"
    }
   ],
   "source": [
    "# Print the results\n",
    "warnings.filterwarnings(\"ignore\")\n",
    "results_clr = {\"Classifier\": [\"C-LR\", \"C-LR\"],\n",
    "               \"Set\": [\"Train\", \"Test\"],\n",
    "               \"Accuracy (%)\": [m.score(X_train, y_train)*100, m.score(X_test, y_test)*100],\n",
    "               \"P-rule (%)\": [p_rule(race_train, m.predict(X_train))[0]*100, p_rule(race_test, m.predict(X_test))[0]*100],\n",
    "               \"Protected (%)\": [p_rule(race_train, m.predict(X_train))[1]*100, p_rule(race_test, m.predict(X_test))[1]*100],\n",
    "               \"Not protected (%)\": [p_rule(race_train, m.predict(X_train))[2]*100, p_rule(race_test, m.predict(X_test))[2]*100]}\n",
    "pd.DataFrame(results_clr)"
   ]
  },
  {
   "cell_type": "markdown",
   "metadata": {},
   "source": [
    "### Interpretation:"
   ]
  },
  {
   "cell_type": "markdown",
   "metadata": {},
   "source": [
    "The accuracy is lower compared to the based-model. Fairness wise, p-rule is drastically improved nearing 100% indicating the model is fair vis-a-vis to race."
   ]
  },
  {
   "cell_type": "markdown",
   "metadata": {},
   "source": [
    "### Section 3: Support Vector Machine (SVM) \n",
    "#### 3.1 Baseline Model"
   ]
  },
  {
   "cell_type": "code",
   "execution_count": 15,
   "metadata": {},
   "outputs": [
    {
     "name": "stdout",
     "output_type": "stream",
     "text": [
      "The optimal loss of SVM model is: 0.6445082714142158\n"
     ]
    }
   ],
   "source": [
    "from sklearn import svm\n",
    "from sklearn.svm import SVC\n",
    "\n",
    "# Train model\n",
    "svm_model = SVC(kernel = 'linear', probability = True)\n",
    "clf= svm_model.fit(X_train, y_train)\n",
    "optimal_loss = log_loss(y_train, clf.predict_proba(X_train))\n",
    "print(f'The optimal loss of SVM model is: {optimal_loss}')"
   ]
  },
  {
   "cell_type": "code",
   "execution_count": 16,
   "metadata": {},
   "outputs": [
    {
     "data": {
      "text/html": [
       "<div>\n",
       "<style scoped>\n",
       "    .dataframe tbody tr th:only-of-type {\n",
       "        vertical-align: middle;\n",
       "    }\n",
       "\n",
       "    .dataframe tbody tr th {\n",
       "        vertical-align: top;\n",
       "    }\n",
       "\n",
       "    .dataframe thead th {\n",
       "        text-align: right;\n",
       "    }\n",
       "</style>\n",
       "<table border=\"1\" class=\"dataframe\">\n",
       "  <thead>\n",
       "    <tr style=\"text-align: right;\">\n",
       "      <th></th>\n",
       "      <th>Classifier</th>\n",
       "      <th>Set</th>\n",
       "      <th>Accuracy (%)</th>\n",
       "      <th>P-rule (%)</th>\n",
       "      <th>Protected (%)</th>\n",
       "      <th>Not protected (%)</th>\n",
       "    </tr>\n",
       "  </thead>\n",
       "  <tbody>\n",
       "    <tr>\n",
       "      <th>0</th>\n",
       "      <td>SVM</td>\n",
       "      <td>Train</td>\n",
       "      <td>62.850242</td>\n",
       "      <td>51.049930</td>\n",
       "      <td>15.858767</td>\n",
       "      <td>31.065209</td>\n",
       "    </tr>\n",
       "    <tr>\n",
       "      <th>1</th>\n",
       "      <td>SVM</td>\n",
       "      <td>Test</td>\n",
       "      <td>61.352113</td>\n",
       "      <td>53.767411</td>\n",
       "      <td>17.821782</td>\n",
       "      <td>33.146067</td>\n",
       "    </tr>\n",
       "  </tbody>\n",
       "</table>\n",
       "</div>"
      ],
      "text/plain": [
       "  Classifier    Set  Accuracy (%)  P-rule (%)  Protected (%)  \\\n",
       "0        SVM  Train     62.850242   51.049930      15.858767   \n",
       "1        SVM   Test     61.352113   53.767411      17.821782   \n",
       "\n",
       "   Not protected (%)  \n",
       "0          31.065209  \n",
       "1          33.146067  "
      ]
     },
     "execution_count": 16,
     "metadata": {},
     "output_type": "execute_result"
    }
   ],
   "source": [
    "# Display results\n",
    "results_svm = {\"Classifier\": [\"SVM\", \"SVM\"],\n",
    "               \"Set\": [\"Train\", \"Test\"],\n",
    "               \"Accuracy (%)\": [clf.score(X_train, y_train)*100, clf.score(X_test, y_test)*100],\n",
    "               \"P-rule (%)\": [p_rule(race_train, clf.predict(X_train))[0]*100, p_rule(race_test, clf.predict(X_test))[0]*100],\n",
    "               \"Protected (%)\": [p_rule(race_train, clf.predict(X_train))[1]*100, p_rule(race_test, clf.predict(X_test))[1]*100],\n",
    "               \"Not protected (%)\": [p_rule(race_train, clf.predict(X_train))[2]*100, p_rule(race_test, clf.predict(X_test))[2]*100]}\n",
    "pd.DataFrame(results_svm)"
   ]
  },
  {
   "cell_type": "markdown",
   "metadata": {},
   "source": [
    "#### 3.2 Optimizing SVM classifier accuracy subject to fairness constraints"
   ]
  },
  {
   "cell_type": "code",
   "execution_count": 17,
   "metadata": {},
   "outputs": [
    {
     "name": "stdout",
     "output_type": "stream",
     "text": [
      "Running custom model\n"
     ]
    }
   ],
   "source": [
    "# Fairness Constraints: Mechanisms for Fair Classification\n",
    "svm = SVM()\n",
    "x_control_train = {'race': race_train}\n",
    "weights = svm.train(X_train, y_train, x_control_train, C=1, max_iter=100, lamb=1, gamma=None, apply_fairness_constraints=1, sensitive_attrs=['race'], sensitive_attrs_to_cov_thresh={'race': 0})\n",
    "pred_y_test = np.sign(np.dot(X_test, weights))\n",
    "pred_y_train = np.sign(np.dot(X_train, weights))\n",
    "csvm_test_acc = sum(pred_y_test == y_test)/len(y_test)\n",
    "csvm_train_acc = sum(pred_y_train == y_train)/len(y_train)"
   ]
  },
  {
   "cell_type": "code",
   "execution_count": 18,
   "metadata": {},
   "outputs": [
    {
     "data": {
      "text/html": [
       "<div>\n",
       "<style scoped>\n",
       "    .dataframe tbody tr th:only-of-type {\n",
       "        vertical-align: middle;\n",
       "    }\n",
       "\n",
       "    .dataframe tbody tr th {\n",
       "        vertical-align: top;\n",
       "    }\n",
       "\n",
       "    .dataframe thead th {\n",
       "        text-align: right;\n",
       "    }\n",
       "</style>\n",
       "<table border=\"1\" class=\"dataframe\">\n",
       "  <thead>\n",
       "    <tr style=\"text-align: right;\">\n",
       "      <th></th>\n",
       "      <th>Classifier</th>\n",
       "      <th>Set</th>\n",
       "      <th>Accuracy (%)</th>\n",
       "      <th>Calibration(%)</th>\n",
       "      <th>P-rule (%)</th>\n",
       "      <th>Protected (%)</th>\n",
       "      <th>Not protected (%)</th>\n",
       "    </tr>\n",
       "  </thead>\n",
       "  <tbody>\n",
       "    <tr>\n",
       "      <th>0</th>\n",
       "      <td>C-SVM</td>\n",
       "      <td>Train</td>\n",
       "      <td>47.042254</td>\n",
       "      <td>14.350005</td>\n",
       "      <td>99.488510</td>\n",
       "      <td>94.733692</td>\n",
       "      <td>95.220737</td>\n",
       "    </tr>\n",
       "    <tr>\n",
       "      <th>1</th>\n",
       "      <td>C-SVM</td>\n",
       "      <td>Test</td>\n",
       "      <td>45.362319</td>\n",
       "      <td>11.422029</td>\n",
       "      <td>98.986143</td>\n",
       "      <td>94.908062</td>\n",
       "      <td>95.880150</td>\n",
       "    </tr>\n",
       "  </tbody>\n",
       "</table>\n",
       "</div>"
      ],
      "text/plain": [
       "  Classifier    Set  Accuracy (%)  Calibration(%)  P-rule (%)  Protected (%)  \\\n",
       "0      C-SVM  Train     47.042254       14.350005   99.488510      94.733692   \n",
       "1      C-SVM   Test     45.362319       11.422029   98.986143      94.908062   \n",
       "\n",
       "   Not protected (%)  \n",
       "0          95.220737  \n",
       "1          95.880150  "
      ]
     },
     "execution_count": 18,
     "metadata": {},
     "output_type": "execute_result"
    }
   ],
   "source": [
    "results_csvm = {\"Classifier\": [\"C-SVM\", \"C-SVM\"],\n",
    "        \"Set\": [\"Train\", \"Test\"],\n",
    "        \"Accuracy (%)\": [csvm_test_acc * 100, csvm_train_acc * 100],\n",
    "        \"Calibration(%)\": [calibration(y_train, pred_y_train, race_train),\n",
    "                                 calibration(y_test, pred_y_test, race_test)],\n",
    "         \"P-rule (%)\": [p_rule(race_train, pred_y_train)[0]*100, p_rule(race_test, pred_y_test)[0]*100],\n",
    "        \"Protected (%)\": [p_rule(race_train, pred_y_train)[1]*100, p_rule(race_test, pred_y_test)[1]*100],\n",
    "        \"Not protected (%)\": [p_rule(race_train, pred_y_train)[2]*100, p_rule(race_test, pred_y_test)[2]*100]}\n",
    "\n",
    "\n",
    "\n",
    "pd.DataFrame(results_csvm)"
   ]
  },
  {
   "cell_type": "markdown",
   "metadata": {},
   "source": [
    "### Section 4: Information Theoretic Measures for Fairness-aware Feature Selection(FFS) "
   ]
  },
  {
   "cell_type": "markdown",
   "metadata": {},
   "source": [
    "An another method to deal with machine learning fairness is called **Information Theoretic Measures for Fairness-aware Feature selection (FFS)**. \n",
    "\n",
    "In short, from the joint statistics of the data, the framework proposes that two information theoretic measures can be used to quantify the **accuracy** and **discrmination** aspect for each subset of the feature space. We then compute the **Shapley coefficients** for each feature to capture its effect on the sensitive/protected group.\n",
    "\n",
    "Below is how we choose features by using **FFS** Algorithm."
   ]
  },
  {
   "cell_type": "code",
   "execution_count": 17,
   "metadata": {},
   "outputs": [
    {
     "name": "stdout",
     "output_type": "stream",
     "text": [
      "Feature:sex\n",
      "Marginal Accuracy Coefficient:0.003568314907946012\n",
      "Marginal Discrimination Coefficient:8.16082890138538e-06\n",
      "Feature:age_cat\n",
      "Marginal Accuracy Coefficient:0.011273246895526084\n",
      "Marginal Discrimination Coefficient:4.4881509198872635e-05\n",
      "Feature:priors_count\n",
      "Marginal Accuracy Coefficient:0.02427159853758174\n",
      "Marginal Discrimination Coefficient:4.464995590653898e-05\n",
      "Feature:c_charge_degree\n",
      "Marginal Accuracy Coefficient:0.001958893676796756\n",
      "Marginal Discrimination Coefficient:6.936830123648318e-06\n",
      "Feature:length_of_stay\n",
      "Marginal Accuracy Coefficient:0.005168319175750994\n",
      "Marginal Discrimination Coefficient:1.0984742883746511e-05\n"
     ]
    }
   ],
   "source": [
    "# this code block takes ~ 20 min to run, so we directly load results from local file\n",
    "y=df[\"two_year_recid\"]\n",
    "y=y.to_numpy()\n",
    "y=np.reshape(y,(-1,1))\n",
    "\n",
    "a=df[\"race\"]\n",
    "a=a.to_numpy()\n",
    "a=np.reshape(a,(-1,1))\n",
    "\n",
    "arr=[\"sex\",\"age_cat\",\"priors_count\",\"c_charge_degree\",\"length_of_stay\"]\n",
    "\n",
    "for i in arr:\n",
    "    print(\"Feature:\",end=\"\")\n",
    "    print(i)\n",
    "    print(\"Marginal Accuracy Coefficient:\",end=\"\")\n",
    "    print(shapley_accuracy(i,y,a))\n",
    "    print(\"Marginal Discrimination Coefficient:\",end=\"\")\n",
    "    print(shapley_discrimination(i,y,a))"
   ]
  },
  {
   "cell_type": "code",
   "execution_count": 19,
   "metadata": {},
   "outputs": [
    {
     "data": {
      "text/html": [
       "<div>\n",
       "<style scoped>\n",
       "    .dataframe tbody tr th:only-of-type {\n",
       "        vertical-align: middle;\n",
       "    }\n",
       "\n",
       "    .dataframe tbody tr th {\n",
       "        vertical-align: top;\n",
       "    }\n",
       "\n",
       "    .dataframe thead th {\n",
       "        text-align: right;\n",
       "    }\n",
       "</style>\n",
       "<table border=\"1\" class=\"dataframe\">\n",
       "  <thead>\n",
       "    <tr style=\"text-align: right;\">\n",
       "      <th></th>\n",
       "      <th>Feature</th>\n",
       "      <th>Accuracy Coefficient</th>\n",
       "      <th>Discrimination Coefficient</th>\n",
       "    </tr>\n",
       "  </thead>\n",
       "  <tbody>\n",
       "    <tr>\n",
       "      <th>0</th>\n",
       "      <td>sex</td>\n",
       "      <td>0.003568</td>\n",
       "      <td>0.000008</td>\n",
       "    </tr>\n",
       "    <tr>\n",
       "      <th>1</th>\n",
       "      <td>age_cat</td>\n",
       "      <td>0.011273</td>\n",
       "      <td>0.000045</td>\n",
       "    </tr>\n",
       "    <tr>\n",
       "      <th>2</th>\n",
       "      <td>priors_count</td>\n",
       "      <td>0.024272</td>\n",
       "      <td>0.000045</td>\n",
       "    </tr>\n",
       "    <tr>\n",
       "      <th>3</th>\n",
       "      <td>c_charge_degree</td>\n",
       "      <td>0.001959</td>\n",
       "      <td>0.000007</td>\n",
       "    </tr>\n",
       "    <tr>\n",
       "      <th>4</th>\n",
       "      <td>length_of_stay</td>\n",
       "      <td>0.005168</td>\n",
       "      <td>0.000011</td>\n",
       "    </tr>\n",
       "  </tbody>\n",
       "</table>\n",
       "</div>"
      ],
      "text/plain": [
       "           Feature  Accuracy Coefficient  Discrimination Coefficient\n",
       "0              sex              0.003568                    0.000008\n",
       "1          age_cat              0.011273                    0.000045\n",
       "2     priors_count              0.024272                    0.000045\n",
       "3  c_charge_degree              0.001959                    0.000007\n",
       "4   length_of_stay              0.005168                    0.000011"
      ]
     },
     "execution_count": 19,
     "metadata": {},
     "output_type": "execute_result"
    }
   ],
   "source": [
    "# display result\n",
    "shapley_results = pd.DataFrame()\n",
    "arr=[\"sex\",\"age_cat\",\"priors_count\",\"c_charge_degree\",\"length_of_stay\"]\n",
    "\n",
    "shapley_results[\"Feature\"] = arr\n",
    "shapley_results[\"Accuracy Coefficient\"] = [0.003568314907946012, 0.011273246895526084,0.02427159853758174,0.001958893676796756,0.005168319175750994]\n",
    "shapley_results[\"Discrimination Coefficient\"] = [8.16082890138538e-06,4.4881509198872635e-05,4.464995590653898e-05,6.936830123648318e-06,1.0984742883746511e-05]\n",
    "shapley_results"
   ]
  },
  {
   "cell_type": "markdown",
   "metadata": {},
   "source": [
    "From the table above, we can see that **Discrimination Coefficient** of `priors_count` is highest, but **Accuracy Coefficient** is also high, so we can't ignore this feature. `length_of_stay` has a little high **Discrimination Coefficient**, and its **Accuracy Coefficient** is low, so we can ignore this feature. So finally, we can choose these four features:\n",
    "\n",
    "- `priors_count`\n",
    "- `age_cat`\n",
    "- `sex`\n",
    "- `c_charge_degree`"
   ]
  },
  {
   "cell_type": "markdown",
   "metadata": {},
   "source": [
    "#### 4.1 Logistic Regression using FFS"
   ]
  },
  {
   "cell_type": "code",
   "execution_count": 20,
   "metadata": {},
   "outputs": [],
   "source": [
    "features = df[['sex', 'age_cat', 'c_charge_degree', 'priors_count']]\n",
    "sensitive = df['race']\n",
    "target = df['two_year_recid']\n",
    "X_train, X_test, y_train, y_test, race_train, race_test = \\\n",
    "    train_test_split(features, target, sensitive, test_size=0.3, random_state=6, shuffle = True)"
   ]
  },
  {
   "cell_type": "code",
   "execution_count": 21,
   "metadata": {},
   "outputs": [
    {
     "name": "stdout",
     "output_type": "stream",
     "text": [
      "The optimal loss of logistic model is: 0.6436511330361576\n"
     ]
    },
    {
     "data": {
      "text/html": [
       "<div>\n",
       "<style scoped>\n",
       "    .dataframe tbody tr th:only-of-type {\n",
       "        vertical-align: middle;\n",
       "    }\n",
       "\n",
       "    .dataframe tbody tr th {\n",
       "        vertical-align: top;\n",
       "    }\n",
       "\n",
       "    .dataframe thead th {\n",
       "        text-align: right;\n",
       "    }\n",
       "</style>\n",
       "<table border=\"1\" class=\"dataframe\">\n",
       "  <thead>\n",
       "    <tr style=\"text-align: right;\">\n",
       "      <th></th>\n",
       "      <th>Classifier</th>\n",
       "      <th>Set</th>\n",
       "      <th>Accuracy (%)</th>\n",
       "      <th>P-rule (%)</th>\n",
       "      <th>Protected (%)</th>\n",
       "      <th>Not protected (%)</th>\n",
       "    </tr>\n",
       "  </thead>\n",
       "  <tbody>\n",
       "    <tr>\n",
       "      <th>0</th>\n",
       "      <td>FFS-LR</td>\n",
       "      <td>Train</td>\n",
       "      <td>63.405797</td>\n",
       "      <td>58.808292</td>\n",
       "      <td>23.937762</td>\n",
       "      <td>40.704739</td>\n",
       "    </tr>\n",
       "    <tr>\n",
       "      <th>1</th>\n",
       "      <td>FFS-LR</td>\n",
       "      <td>Test</td>\n",
       "      <td>61.802817</td>\n",
       "      <td>65.541470</td>\n",
       "      <td>26.449788</td>\n",
       "      <td>40.355805</td>\n",
       "    </tr>\n",
       "  </tbody>\n",
       "</table>\n",
       "</div>"
      ],
      "text/plain": [
       "  Classifier    Set  Accuracy (%)  P-rule (%)  Protected (%)  \\\n",
       "0     FFS-LR  Train     63.405797   58.808292      23.937762   \n",
       "1     FFS-LR   Test     61.802817   65.541470      26.449788   \n",
       "\n",
       "   Not protected (%)  \n",
       "0          40.704739  \n",
       "1          40.355805  "
      ]
     },
     "execution_count": 21,
     "metadata": {},
     "output_type": "execute_result"
    }
   ],
   "source": [
    "# Train model and print results\n",
    "clf = LogisticRegression(random_state = 0).fit(X_train, y_train)\n",
    "coeff = clf.coef_\n",
    "intercept = clf.intercept_\n",
    "optimal_loss = log_loss(y_train, clf.predict_proba(X_train))\n",
    "print(f'The optimal loss of logistic model is: {optimal_loss}')\n",
    "\n",
    "# Display results\n",
    "results_ffs_lr = {\"Classifier\": [\"FFS-LR\", \"FFS-LR\"],\n",
    "                  \"Set\": [\"Train\", \"Test\"],\n",
    "                  \"Accuracy (%)\": [clf.score(X_train, y_train)*100, clf.score(X_test, y_test)*100],\n",
    "                  \"P-rule (%)\": [p_rule(race_train, clf.predict(X_train))[0]*100, p_rule(race_test, clf.predict(X_test))[0]*100],\n",
    "                  \"Protected (%)\": [p_rule(race_train, clf.predict(X_train))[1]*100, p_rule(race_test, clf.predict(X_test))[1]*100],\n",
    "                  \"Not protected (%)\": [p_rule(race_train, clf.predict(X_train))[2]*100, p_rule(race_test, clf.predict(X_test))[2]*100]}\n",
    "pd.DataFrame(results_ffs_lr)"
   ]
  },
  {
   "cell_type": "markdown",
   "metadata": {},
   "source": [
    "#### 4.2 SVM using FFS"
   ]
  },
  {
   "cell_type": "code",
   "execution_count": 81,
   "metadata": {},
   "outputs": [
    {
     "name": "stdout",
     "output_type": "stream",
     "text": [
      "The optimal loss of SVM model is: 0.647671669776638\n"
     ]
    },
    {
     "data": {
      "text/html": [
       "<div>\n",
       "<style scoped>\n",
       "    .dataframe tbody tr th:only-of-type {\n",
       "        vertical-align: middle;\n",
       "    }\n",
       "\n",
       "    .dataframe tbody tr th {\n",
       "        vertical-align: top;\n",
       "    }\n",
       "\n",
       "    .dataframe thead th {\n",
       "        text-align: right;\n",
       "    }\n",
       "</style>\n",
       "<table border=\"1\" class=\"dataframe\">\n",
       "  <thead>\n",
       "    <tr style=\"text-align: right;\">\n",
       "      <th></th>\n",
       "      <th>Classifier</th>\n",
       "      <th>Set</th>\n",
       "      <th>Accuracy (%)</th>\n",
       "      <th>P-rule (%)</th>\n",
       "      <th>Protected (%)</th>\n",
       "      <th>Not protected (%)</th>\n",
       "    </tr>\n",
       "  </thead>\n",
       "  <tbody>\n",
       "    <tr>\n",
       "      <th>0</th>\n",
       "      <td>FFS-SVM</td>\n",
       "      <td>Train</td>\n",
       "      <td>62.463768</td>\n",
       "      <td>50.574145</td>\n",
       "      <td>15.260323</td>\n",
       "      <td>30.174160</td>\n",
       "    </tr>\n",
       "    <tr>\n",
       "      <th>1</th>\n",
       "      <td>FFS-SVM</td>\n",
       "      <td>Test</td>\n",
       "      <td>61.183099</td>\n",
       "      <td>57.589169</td>\n",
       "      <td>18.387553</td>\n",
       "      <td>31.928839</td>\n",
       "    </tr>\n",
       "  </tbody>\n",
       "</table>\n",
       "</div>"
      ],
      "text/plain": [
       "  Classifier    Set  Accuracy (%)  P-rule (%)  Protected (%)  \\\n",
       "0    FFS-SVM  Train     62.463768   50.574145      15.260323   \n",
       "1    FFS-SVM   Test     61.183099   57.589169      18.387553   \n",
       "\n",
       "   Not protected (%)  \n",
       "0          30.174160  \n",
       "1          31.928839  "
      ]
     },
     "execution_count": 81,
     "metadata": {},
     "output_type": "execute_result"
    }
   ],
   "source": [
    "# Train model\n",
    "svm_model = SVC(kernel = 'linear', probability = True)\n",
    "clf= svm_model.fit(X_train, y_train)\n",
    "optimal_loss = log_loss(y_train, clf.predict_proba(X_train))\n",
    "print(f'The optimal loss of SVM model is: {optimal_loss}')\n",
    "\n",
    "# Display results\n",
    "results_ffs_svm = {\"Classifier\": [\"FFS-SVM\", \"FFS-SVM\"],\n",
    "               \"Set\": [\"Train\", \"Test\"],\n",
    "               \"Accuracy (%)\": [clf.score(X_train, y_train)*100, clf.score(X_test, y_test)*100],\n",
    "               \"P-rule (%)\": [p_rule(race_train, clf.predict(X_train))[0]*100, p_rule(race_test, clf.predict(X_test))[0]*100],\n",
    "               \"Protected (%)\": [p_rule(race_train, clf.predict(X_train))[1]*100, p_rule(race_test, clf.predict(X_test))[1]*100],\n",
    "               \"Not protected (%)\": [p_rule(race_train, clf.predict(X_train))[2]*100, p_rule(race_test, clf.predict(X_test))[2]*100]}\n",
    "pd.DataFrame(results_ffs_svm)"
   ]
  },
  {
   "cell_type": "markdown",
   "metadata": {},
   "source": [
    "### Section 5: Evaluation"
   ]
  },
  {
   "cell_type": "markdown",
   "metadata": {},
   "source": [
    "In this session, we compare all models from paper A2 and A7 using both accuracy and P-rule score as a measure of fairnes. "
   ]
  },
  {
   "cell_type": "code",
   "execution_count": 82,
   "metadata": {},
   "outputs": [
    {
     "data": {
      "text/html": [
       "<div>\n",
       "<style scoped>\n",
       "    .dataframe tbody tr th:only-of-type {\n",
       "        vertical-align: middle;\n",
       "    }\n",
       "\n",
       "    .dataframe tbody tr th {\n",
       "        vertical-align: top;\n",
       "    }\n",
       "\n",
       "    .dataframe thead th {\n",
       "        text-align: right;\n",
       "    }\n",
       "</style>\n",
       "<table border=\"1\" class=\"dataframe\">\n",
       "  <thead>\n",
       "    <tr style=\"text-align: right;\">\n",
       "      <th></th>\n",
       "      <th>Classifier</th>\n",
       "      <th>Accuracy (%)</th>\n",
       "      <th>P-rule (%)</th>\n",
       "      <th>Protected (%)</th>\n",
       "      <th>Not protected (%)</th>\n",
       "    </tr>\n",
       "  </thead>\n",
       "  <tbody>\n",
       "    <tr>\n",
       "      <th>1</th>\n",
       "      <td>LR</td>\n",
       "      <td>62.028169</td>\n",
       "      <td>59.382529</td>\n",
       "      <td>24.186704</td>\n",
       "      <td>40.730337</td>\n",
       "    </tr>\n",
       "    <tr>\n",
       "      <th>1</th>\n",
       "      <td>C-LR</td>\n",
       "      <td>49.633803</td>\n",
       "      <td>99.378233</td>\n",
       "      <td>95.190948</td>\n",
       "      <td>95.786517</td>\n",
       "    </tr>\n",
       "    <tr>\n",
       "      <th>1</th>\n",
       "      <td>SVM</td>\n",
       "      <td>61.352113</td>\n",
       "      <td>53.767411</td>\n",
       "      <td>17.821782</td>\n",
       "      <td>33.146067</td>\n",
       "    </tr>\n",
       "    <tr>\n",
       "      <th>1</th>\n",
       "      <td>C-SVM</td>\n",
       "      <td>45.362319</td>\n",
       "      <td>98.986143</td>\n",
       "      <td>94.908062</td>\n",
       "      <td>95.880150</td>\n",
       "    </tr>\n",
       "    <tr>\n",
       "      <th>1</th>\n",
       "      <td>FFS-LR</td>\n",
       "      <td>61.802817</td>\n",
       "      <td>65.541470</td>\n",
       "      <td>26.449788</td>\n",
       "      <td>40.355805</td>\n",
       "    </tr>\n",
       "    <tr>\n",
       "      <th>1</th>\n",
       "      <td>FFS-SVM</td>\n",
       "      <td>61.183099</td>\n",
       "      <td>57.589169</td>\n",
       "      <td>18.387553</td>\n",
       "      <td>31.928839</td>\n",
       "    </tr>\n",
       "  </tbody>\n",
       "</table>\n",
       "</div>"
      ],
      "text/plain": [
       "  Classifier  Accuracy (%)  P-rule (%)  Protected (%)  Not protected (%)\n",
       "1         LR     62.028169   59.382529      24.186704          40.730337\n",
       "1       C-LR     49.633803   99.378233      95.190948          95.786517\n",
       "1        SVM     61.352113   53.767411      17.821782          33.146067\n",
       "1      C-SVM     45.362319   98.986143      94.908062          95.880150\n",
       "1     FFS-LR     61.802817   65.541470      26.449788          40.355805\n",
       "1    FFS-SVM     61.183099   57.589169      18.387553          31.928839"
      ]
     },
     "execution_count": 82,
     "metadata": {},
     "output_type": "execute_result"
    }
   ],
   "source": [
    "results = [results_lr, results_clr, results_svm, results_csvm, results_ffs_lr, results_ffs_svm]\n",
    "results_df = [pd.DataFrame(r) for r in results]\n",
    "\n",
    "results_combined = pd.concat(results_df, axis=0)\n",
    "results_combined = results_combined[results_combined[\"Set\"] == \"Test\"]\n",
    "results_combined = results_combined.drop(columns=[\"Set\", \"Calibration(%)\"])\n",
    "\n",
    "results_combined"
   ]
  },
  {
   "cell_type": "markdown",
   "metadata": {},
   "source": [
    "If we take both accuracy and fairness into account, we would recommend FFS-LR with 61.8% accuracy as the second highest of all models, and with p-rule score 65.54% that's reasonably well (third highest of all models). \n",
    "\n",
    "The reason we don't choose C-LR or C-SVM is because despite their high P-rule value, their accuracy is too low for a binary classifier. The reason we don't choose traditional LR or SVM is because despite their relative high accuracy, they do not take fairness into account."
   ]
  },
  {
   "cell_type": "code",
   "execution_count": 84,
   "metadata": {},
   "outputs": [
    {
     "data": {
      "image/png": "[encoded data removed]",
      "text/plain": [
       "<Figure size 1000x400 with 1 Axes>"
      ]
     },
     "metadata": {},
     "output_type": "display_data"
    }
   ],
   "source": [
    "fig, ax = plt.subplots(figsize = (10,4))\n",
    "x = range(len(results_combined.index))\n",
    "\n",
    "width = 0.1\n",
    "ax.bar(x, results_combined['Accuracy (%)'], width, label='Accuracy')\n",
    "ax.bar([i + width for i in x], results_combined['P-rule (%)'], width, label='P-rule')\n",
    "\n",
    "ax.set_xticks([i + width for i in x])\n",
    "ax.set_xticklabels(results_combined['Classifier'])\n",
    "ax.legend()\n",
    "\n",
    "plt.ylabel(\"Percentage\")\n",
    "plt.title(\"Classifier Performance and Fairness Score\")\n",
    "\n",
    "plt.show()"
   ]
  }
 ],
 "metadata": {
  "kernelspec": {
   "display_name": "Python 3",
   "language": "python",
   "name": "python3"
  },
  "language_info": {
   "codemirror_mode": {
    "name": "ipython",
    "version": 3
   },
   "file_extension": ".py",
   "mimetype": "text/x-python",
   "name": "python",
   "nbconvert_exporter": "python",
   "pygments_lexer": "ipython3",
   "version": "3.8.3"
  },
  "toc": {
   "base_numbering": 1,
   "nav_menu": {},
   "number_sections": true,
   "sideBar": true,
   "skip_h1_title": false,
   "title_cell": "Table of Contents",
   "title_sidebar": "Contents",
   "toc_cell": false,
   "toc_position": {},
   "toc_section_display": true,
   "toc_window_display": false
  },
  "varInspector": {
   "cols": {
    "lenName": 16,
    "lenType": 16,
    "lenVar": 40
   },
   "kernels_config": {
    "python": {
     "delete_cmd_postfix": "",
     "delete_cmd_prefix": "del ",
     "library": "var_list.py",
     "varRefreshCmd": "print(var_dic_list())"
    },
    "r": {
     "delete_cmd_postfix": ") ",
     "delete_cmd_prefix": "rm(",
     "library": "var_list.r",
     "varRefreshCmd": "cat(var_dic_list()) "
    }
   },
   "types_to_exclude": [
    "module",
    "function",
    "builtin_function_or_method",
    "instance",
    "_Feature"
   ],
   "window_display": false
  }
 },
 "nbformat": 4,
 "nbformat_minor": 2
}
