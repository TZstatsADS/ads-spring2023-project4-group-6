{
 "cells": [
  {
   "cell_type": "code",
   "execution_count": 1,
   "id": "1b30c1df",
   "metadata": {},
   "outputs": [],
   "source": [
    "import numpy as np\n",
    "import pandas as pd\n",
    "from sklearn.compose import ColumnTransformer\n",
    "from sklearn.preprocessing import OneHotEncoder\n",
    "from sklearn.model_selection import train_test_split\n",
    "from sklearn.linear_model import LogisticRegression\n",
    "from sklearn.metrics import accuracy_score\n",
    "from sklearn.pipeline import Pipeline\n",
    "from sklearn.preprocessing import StandardScaler\n",
    "\n",
    "\n",
    "from sklearn.linear_model import LogisticRegression\n",
    "\n",
    "from sklearn.svm import SVC\n",
    "import c_svm\n",
    "from c_svm import SVM\n"
   ]
  },
  {
   "cell_type": "code",
   "execution_count": 2,
   "id": "aa931e1e",
   "metadata": {},
   "outputs": [
    {
     "data": {
      "text/html": [
       "<div>\n",
       "<style scoped>\n",
       "    .dataframe tbody tr th:only-of-type {\n",
       "        vertical-align: middle;\n",
       "    }\n",
       "\n",
       "    .dataframe tbody tr th {\n",
       "        vertical-align: top;\n",
       "    }\n",
       "\n",
       "    .dataframe thead th {\n",
       "        text-align: right;\n",
       "    }\n",
       "</style>\n",
       "<table border=\"1\" class=\"dataframe\">\n",
       "  <thead>\n",
       "    <tr style=\"text-align: right;\">\n",
       "      <th></th>\n",
       "      <th>sex</th>\n",
       "      <th>age_cat</th>\n",
       "      <th>race</th>\n",
       "      <th>priors_count</th>\n",
       "      <th>c_charge_degree</th>\n",
       "      <th>two_year_recid</th>\n",
       "      <th>length_of_stay</th>\n",
       "    </tr>\n",
       "  </thead>\n",
       "  <tbody>\n",
       "    <tr>\n",
       "      <th>0</th>\n",
       "      <td>Male</td>\n",
       "      <td>25 - 45</td>\n",
       "      <td>African-American</td>\n",
       "      <td>-0.733607</td>\n",
       "      <td>F</td>\n",
       "      <td>1</td>\n",
       "      <td>-0.167773</td>\n",
       "    </tr>\n",
       "    <tr>\n",
       "      <th>1</th>\n",
       "      <td>Male</td>\n",
       "      <td>&lt; 25</td>\n",
       "      <td>African-American</td>\n",
       "      <td>0.055928</td>\n",
       "      <td>F</td>\n",
       "      <td>1</td>\n",
       "      <td>-0.340654</td>\n",
       "    </tr>\n",
       "    <tr>\n",
       "      <th>2</th>\n",
       "      <td>Male</td>\n",
       "      <td>25 - 45</td>\n",
       "      <td>Caucasian</td>\n",
       "      <td>2.029767</td>\n",
       "      <td>F</td>\n",
       "      <td>1</td>\n",
       "      <td>-0.244609</td>\n",
       "    </tr>\n",
       "    <tr>\n",
       "      <th>3</th>\n",
       "      <td>Female</td>\n",
       "      <td>25 - 45</td>\n",
       "      <td>Caucasian</td>\n",
       "      <td>-0.733607</td>\n",
       "      <td>M</td>\n",
       "      <td>0</td>\n",
       "      <td>-0.321445</td>\n",
       "    </tr>\n",
       "    <tr>\n",
       "      <th>4</th>\n",
       "      <td>Male</td>\n",
       "      <td>&lt; 25</td>\n",
       "      <td>Caucasian</td>\n",
       "      <td>-0.536224</td>\n",
       "      <td>F</td>\n",
       "      <td>1</td>\n",
       "      <td>-0.359864</td>\n",
       "    </tr>\n",
       "  </tbody>\n",
       "</table>\n",
       "</div>"
      ],
      "text/plain": [
       "      sex  age_cat              race  priors_count c_charge_degree  \\\n",
       "0    Male  25 - 45  African-American     -0.733607               F   \n",
       "1    Male     < 25  African-American      0.055928               F   \n",
       "2    Male  25 - 45         Caucasian      2.029767               F   \n",
       "3  Female  25 - 45         Caucasian     -0.733607               M   \n",
       "4    Male     < 25         Caucasian     -0.536224               F   \n",
       "\n",
       "   two_year_recid  length_of_stay  \n",
       "0               1       -0.167773  \n",
       "1               1       -0.340654  \n",
       "2               1       -0.244609  \n",
       "3               0       -0.321445  \n",
       "4               1       -0.359864  "
      ]
     },
     "execution_count": 2,
     "metadata": {},
     "output_type": "execute_result"
    }
   ],
   "source": [
    "df = pd.read_csv(\"data/compas-scores-two-years_cleaned.csv\")\n",
    "df.head()"
   ]
  },
  {
   "cell_type": "code",
   "execution_count": 3,
   "id": "b4f67d80",
   "metadata": {},
   "outputs": [
    {
     "data": {
      "text/plain": [
       "Index(['sex', 'age_cat', 'race', 'priors_count', 'c_charge_degree',\n",
       "       'two_year_recid', 'length_of_stay'],\n",
       "      dtype='object')"
      ]
     },
     "execution_count": 3,
     "metadata": {},
     "output_type": "execute_result"
    }
   ],
   "source": [
    "df.columns"
   ]
  },
  {
   "cell_type": "code",
   "execution_count": 4,
   "id": "eb87c306",
   "metadata": {},
   "outputs": [
    {
     "data": {
      "text/plain": [
       "African-American    3537\n",
       "Caucasian           2378\n",
       "Name: race, dtype: int64"
      ]
     },
     "execution_count": 4,
     "metadata": {},
     "output_type": "execute_result"
    }
   ],
   "source": [
    "df['race'].value_counts()"
   ]
  },
  {
   "cell_type": "markdown",
   "id": "75d26fc0",
   "metadata": {},
   "source": [
    "Data Processing"
   ]
  },
  {
   "cell_type": "code",
   "execution_count": 5,
   "id": "572ac675",
   "metadata": {},
   "outputs": [],
   "source": [
    "sensitive_attribute = 'race'\n",
    "target = 'two_year_recid'\n",
    "features = ['sex', 'age_cat', 'priors_count', 'c_charge_degree', 'length_of_stay']"
   ]
  },
  {
   "cell_type": "code",
   "execution_count": 6,
   "id": "aece5419",
   "metadata": {},
   "outputs": [
    {
     "data": {
      "text/html": [
       "<div>\n",
       "<style scoped>\n",
       "    .dataframe tbody tr th:only-of-type {\n",
       "        vertical-align: middle;\n",
       "    }\n",
       "\n",
       "    .dataframe tbody tr th {\n",
       "        vertical-align: top;\n",
       "    }\n",
       "\n",
       "    .dataframe thead th {\n",
       "        text-align: right;\n",
       "    }\n",
       "</style>\n",
       "<table border=\"1\" class=\"dataframe\">\n",
       "  <thead>\n",
       "    <tr style=\"text-align: right;\">\n",
       "      <th></th>\n",
       "      <th>sex</th>\n",
       "      <th>age_cat</th>\n",
       "      <th>race</th>\n",
       "      <th>priors_count</th>\n",
       "      <th>c_charge_degree</th>\n",
       "      <th>two_year_recid</th>\n",
       "      <th>length_of_stay</th>\n",
       "    </tr>\n",
       "  </thead>\n",
       "  <tbody>\n",
       "    <tr>\n",
       "      <th>0</th>\n",
       "      <td>1</td>\n",
       "      <td>1</td>\n",
       "      <td>0</td>\n",
       "      <td>-0.733607</td>\n",
       "      <td>1</td>\n",
       "      <td>1</td>\n",
       "      <td>-0.167773</td>\n",
       "    </tr>\n",
       "    <tr>\n",
       "      <th>1</th>\n",
       "      <td>1</td>\n",
       "      <td>0</td>\n",
       "      <td>0</td>\n",
       "      <td>0.055928</td>\n",
       "      <td>1</td>\n",
       "      <td>1</td>\n",
       "      <td>-0.340654</td>\n",
       "    </tr>\n",
       "    <tr>\n",
       "      <th>2</th>\n",
       "      <td>1</td>\n",
       "      <td>1</td>\n",
       "      <td>1</td>\n",
       "      <td>2.029767</td>\n",
       "      <td>1</td>\n",
       "      <td>1</td>\n",
       "      <td>-0.244609</td>\n",
       "    </tr>\n",
       "    <tr>\n",
       "      <th>3</th>\n",
       "      <td>0</td>\n",
       "      <td>1</td>\n",
       "      <td>1</td>\n",
       "      <td>-0.733607</td>\n",
       "      <td>0</td>\n",
       "      <td>0</td>\n",
       "      <td>-0.321445</td>\n",
       "    </tr>\n",
       "    <tr>\n",
       "      <th>4</th>\n",
       "      <td>1</td>\n",
       "      <td>0</td>\n",
       "      <td>1</td>\n",
       "      <td>-0.536224</td>\n",
       "      <td>1</td>\n",
       "      <td>1</td>\n",
       "      <td>-0.359864</td>\n",
       "    </tr>\n",
       "  </tbody>\n",
       "</table>\n",
       "</div>"
      ],
      "text/plain": [
       "   sex  age_cat  race  priors_count  c_charge_degree  two_year_recid  \\\n",
       "0    1        1     0     -0.733607                1               1   \n",
       "1    1        0     0      0.055928                1               1   \n",
       "2    1        1     1      2.029767                1               1   \n",
       "3    0        1     1     -0.733607                0               0   \n",
       "4    1        0     1     -0.536224                1               1   \n",
       "\n",
       "   length_of_stay  \n",
       "0       -0.167773  \n",
       "1       -0.340654  \n",
       "2       -0.244609  \n",
       "3       -0.321445  \n",
       "4       -0.359864  "
      ]
     },
     "execution_count": 6,
     "metadata": {},
     "output_type": "execute_result"
    }
   ],
   "source": [
    "categorical_features = ['sex', 'age_cat', 'race', 'c_charge_degree']\n",
    "df['sex'] = df['sex'].apply(lambda x: 0 if x == 'Female' else 1)\n",
    "df['age_cat'] = df['age_cat'].apply(lambda x: 0 if x == '< 25' else(2 if x == '> 45' else 1))\n",
    "df['race'] = df['race'].apply(lambda x: 0 if x == 'African-American' else 1)\n",
    "df['c_charge_degree'] = df['c_charge_degree'].apply(lambda x: 0 if x == 'M' else 1)\n",
    "df.head()"
   ]
  },
  {
   "cell_type": "markdown",
   "id": "96687b99",
   "metadata": {},
   "source": [
    "Training and Testing Set"
   ]
  },
  {
   "cell_type": "code",
   "execution_count": 16,
   "id": "43ac8dd6",
   "metadata": {},
   "outputs": [],
   "source": [
    "features = df[['sex', 'age_cat', 'c_charge_degree', 'length_of_stay',\"priors_count\"]]\n",
    "sensitive = df['race']\n",
    "target = df['two_year_recid']\n",
    "X_train, X_test, y_train, y_test, race_train, race_test = \\\n",
    "    train_test_split(features, target, sensitive, test_size=0.3, random_state=6, shuffle = True)"
   ]
  },
  {
   "cell_type": "code",
   "execution_count": 8,
   "id": "2becb27f",
   "metadata": {},
   "outputs": [],
   "source": [
    "scaler = StandardScaler()\n",
    "X_train = scaler.fit_transform(X_train)\n",
    "X_test = scaler.transform(X_test)"
   ]
  },
  {
   "cell_type": "markdown",
   "id": "d36489a6",
   "metadata": {},
   "source": [
    "SVM Without Constraint"
   ]
  },
  {
   "cell_type": "code",
   "execution_count": 9,
   "id": "3a76a0be",
   "metadata": {},
   "outputs": [],
   "source": [
    "def calibration(y_true, y_pred, sensitive_features):\n",
    "    y_true = np.array(y_true)\n",
    "    y_pred = np.array(y_pred)\n",
    "\n",
    "    c_index = np.where(sensitive_features == 1)[0]           \n",
    "    a_index = np.where(sensitive_features == 0)[0]       \n",
    "    \n",
    "    y_pred_c = y_pred[c_index]           \n",
    "    y_true_c = y_true[c_index] \n",
    "    acc_c = sum(y_pred_c == y_true_c)/len(y_pred_c)\n",
    "\n",
    "    y_pred_a = y_pred[a_index]   \n",
    "    y_true_a = y_true[a_index]\n",
    "    acc_a = sum(y_pred_a == y_true_a)/len(y_pred_a)\n",
    "\n",
    "    calibration = abs(acc_c - acc_a) * 100\n",
    "    return(calibration)\n"
   ]
  },
  {
   "cell_type": "code",
   "execution_count": 10,
   "id": "44794921",
   "metadata": {},
   "outputs": [],
   "source": [
    "def p_rule(sensitive_var, y_pred):\n",
    "    protected = np.where(sensitive_var == 1)[0]\n",
    "    not_protected = np.where(sensitive_var == 0)[0]\n",
    "    protected_pred = np.where(y_pred[protected] == 1)\n",
    "    not_protected_pred = np.where(y_pred[not_protected] == 1)\n",
    "    protected_percent = protected_pred[0].shape[0]/protected.shape[0]\n",
    "    not_protected_percent = not_protected_pred[0].shape[0]/not_protected.shape[0]\n",
    "    ratio = min(protected_percent/not_protected_percent, not_protected_percent/protected_percent)\n",
    "    \n",
    "    return ratio, protected_percent, not_protected_percent"
   ]
  },
  {
   "cell_type": "code",
   "execution_count": 11,
   "id": "a716e041",
   "metadata": {},
   "outputs": [
    {
     "data": {
      "text/html": [
       "<div>\n",
       "<style scoped>\n",
       "    .dataframe tbody tr th:only-of-type {\n",
       "        vertical-align: middle;\n",
       "    }\n",
       "\n",
       "    .dataframe tbody tr th {\n",
       "        vertical-align: top;\n",
       "    }\n",
       "\n",
       "    .dataframe thead th {\n",
       "        text-align: right;\n",
       "    }\n",
       "</style>\n",
       "<table border=\"1\" class=\"dataframe\">\n",
       "  <thead>\n",
       "    <tr style=\"text-align: right;\">\n",
       "      <th></th>\n",
       "      <th>Classifier</th>\n",
       "      <th>Set</th>\n",
       "      <th>Accuracy (%)</th>\n",
       "      <th>Calibration(%)</th>\n",
       "      <th>P-rule (%)</th>\n",
       "      <th>Protected (%)</th>\n",
       "      <th>Not protected (%)</th>\n",
       "    </tr>\n",
       "  </thead>\n",
       "  <tbody>\n",
       "    <tr>\n",
       "      <th>0</th>\n",
       "      <td>SVM</td>\n",
       "      <td>Train</td>\n",
       "      <td>66.145393</td>\n",
       "      <td>1.098249</td>\n",
       "      <td>55.630231</td>\n",
       "      <td>30.655391</td>\n",
       "      <td>55.105634</td>\n",
       "    </tr>\n",
       "    <tr>\n",
       "      <th>1</th>\n",
       "      <td>SVM</td>\n",
       "      <td>Test</td>\n",
       "      <td>65.426881</td>\n",
       "      <td>1.817903</td>\n",
       "      <td>99.055846</td>\n",
       "      <td>47.325103</td>\n",
       "      <td>47.776184</td>\n",
       "    </tr>\n",
       "  </tbody>\n",
       "</table>\n",
       "</div>"
      ],
      "text/plain": [
       "  Classifier    Set  Accuracy (%)  Calibration(%)  P-rule (%)  Protected (%)  \\\n",
       "0        SVM  Train     66.145393        1.098249   55.630231      30.655391   \n",
       "1        SVM   Test     65.426881        1.817903   99.055846      47.325103   \n",
       "\n",
       "   Not protected (%)  \n",
       "0          55.105634  \n",
       "1          47.776184  "
      ]
     },
     "execution_count": 11,
     "metadata": {},
     "output_type": "execute_result"
    }
   ],
   "source": [
    "unconstrained_svm = SVC(kernel='linear', probability = True,)\n",
    "unconstrained_svm = unconstrained_svm.fit(X_train, y_train)\n",
    "y_pred_unconstrained = unconstrained_svm.predict(X_train)\n",
    "result = {\"Classifier\": [\"SVM\", \"SVM\"],\n",
    "        \"Set\": [\"Train\", \"Test\"],\n",
    "        \"Accuracy (%)\": [unconstrained_svm.score(X_train, y_train) * 100, unconstrained_svm.score(X_test, y_test) * 100],\n",
    "        \"Calibration(%)\": [calibration(y_train, y_pred_unconstrained, race_train), calibration(y_test, y_pred_unconstrained, race_test)],\n",
    "         \"P-rule (%)\": [p_rule(race_train, y_pred_unconstrained)[0]*100, p_rule(race_test, y_pred_unconstrained)[0]*100],\n",
    "        \"Protected (%)\": [p_rule(race_train, y_pred_unconstrained)[1]*100, p_rule(race_test, y_pred_unconstrained)[1]*100],\n",
    "        \"Not protected (%)\": [p_rule(race_train, y_pred_unconstrained)[2]*100, p_rule(race_test, y_pred_unconstrained)[2]*100]}\n",
    "\n",
    "\n",
    "\n",
    "pd.DataFrame(result)"
   ]
  },
  {
   "cell_type": "markdown",
   "id": "d3ee8495",
   "metadata": {},
   "source": [
    "With Constraint"
   ]
  },
  {
   "cell_type": "code",
   "execution_count": 17,
   "id": "91e9f305",
   "metadata": {},
   "outputs": [
    {
     "name": "stdout",
     "output_type": "stream",
     "text": [
      "Running custom model\n"
     ]
    }
   ],
   "source": [
    "svm = SVM()\n",
    "x_control_train = {'race': race_train}\n",
    "weights = svm.train(X_train, y_train, x_control_train, C=1, max_iter=100, lamb=1, gamma=None, apply_fairness_constraints=1, sensitive_attrs=['race'], sensitive_attrs_to_cov_thresh={'race': 0})\n",
    "pred_y_test = np.sign(np.dot(X_test, weights))\n",
    "pred_y_train = np.sign(np.dot(X_train, weights))\n",
    "csvm_test_acc = sum(pred_y_test == y_test)/len(y_test)\n",
    "csvm_train_acc = sum(pred_y_train == y_train)/len(y_train)\n"
   ]
  },
  {
   "cell_type": "code",
   "execution_count": 18,
   "id": "99468847",
   "metadata": {},
   "outputs": [
    {
     "data": {
      "text/html": [
       "<div>\n",
       "<style scoped>\n",
       "    .dataframe tbody tr th:only-of-type {\n",
       "        vertical-align: middle;\n",
       "    }\n",
       "\n",
       "    .dataframe tbody tr th {\n",
       "        vertical-align: top;\n",
       "    }\n",
       "\n",
       "    .dataframe thead th {\n",
       "        text-align: right;\n",
       "    }\n",
       "</style>\n",
       "<table border=\"1\" class=\"dataframe\">\n",
       "  <thead>\n",
       "    <tr style=\"text-align: right;\">\n",
       "      <th></th>\n",
       "      <th>Classifier</th>\n",
       "      <th>Set</th>\n",
       "      <th>Accuracy (%)</th>\n",
       "      <th>Calibration(%)</th>\n",
       "      <th>P-rule (%)</th>\n",
       "      <th>Protected (%)</th>\n",
       "      <th>Not protected (%)</th>\n",
       "    </tr>\n",
       "  </thead>\n",
       "  <tbody>\n",
       "    <tr>\n",
       "      <th>0</th>\n",
       "      <td>C-SVM</td>\n",
       "      <td>Train</td>\n",
       "      <td>48.845070</td>\n",
       "      <td>13.713531</td>\n",
       "      <td>99.963059</td>\n",
       "      <td>99.760622</td>\n",
       "      <td>99.797489</td>\n",
       "    </tr>\n",
       "    <tr>\n",
       "      <th>1</th>\n",
       "      <td>C-SVM</td>\n",
       "      <td>Test</td>\n",
       "      <td>47.077295</td>\n",
       "      <td>10.186922</td>\n",
       "      <td>99.904201</td>\n",
       "      <td>99.717115</td>\n",
       "      <td>99.812734</td>\n",
       "    </tr>\n",
       "  </tbody>\n",
       "</table>\n",
       "</div>"
      ],
      "text/plain": [
       "  Classifier    Set  Accuracy (%)  Calibration(%)  P-rule (%)  Protected (%)  \\\n",
       "0      C-SVM  Train     48.845070       13.713531   99.963059      99.760622   \n",
       "1      C-SVM   Test     47.077295       10.186922   99.904201      99.717115   \n",
       "\n",
       "   Not protected (%)  \n",
       "0          99.797489  \n",
       "1          99.812734  "
      ]
     },
     "execution_count": 18,
     "metadata": {},
     "output_type": "execute_result"
    }
   ],
   "source": [
    "result = {\"Classifier\": [\"C-SVM\", \"C-SVM\"],\n",
    "        \"Set\": [\"Train\", \"Test\"],\n",
    "        \"Accuracy (%)\": [csvm_test_acc * 100, csvm_train_acc * 100],\n",
    "        \"Calibration(%)\": [calibration(y_train, pred_y_train, race_train),\n",
    "                                 calibration(y_test, pred_y_test, race_test)],\n",
    "         \"P-rule (%)\": [p_rule(race_train, pred_y_train)[0]*100, p_rule(race_test, pred_y_test)[0]*100],\n",
    "        \"Protected (%)\": [p_rule(race_train, pred_y_train)[1]*100, p_rule(race_test, pred_y_test)[1]*100],\n",
    "        \"Not protected (%)\": [p_rule(race_train, pred_y_train)[2]*100, p_rule(race_test, pred_y_test)[2]*100]}\n",
    "\n",
    "\n",
    "\n",
    "pd.DataFrame(result)"
   ]
  },
  {
   "cell_type": "code",
   "execution_count": null,
   "id": "ad1ec6cf",
   "metadata": {},
   "outputs": [],
   "source": []
  },
  {
   "cell_type": "code",
   "execution_count": null,
   "id": "8152f31c",
   "metadata": {},
   "outputs": [],
   "source": []
  }
 ],
 "metadata": {
  "kernelspec": {
   "display_name": "Python 3 (ipykernel)",
   "language": "python",
   "name": "python3"
  },
  "language_info": {
   "codemirror_mode": {
    "name": "ipython",
    "version": 3
   },
   "file_extension": ".py",
   "mimetype": "text/x-python",
   "name": "python",
   "nbconvert_exporter": "python",
   "pygments_lexer": "ipython3",
   "version": "3.8.5"
  }
 },
 "nbformat": 4,
 "nbformat_minor": 5
}
